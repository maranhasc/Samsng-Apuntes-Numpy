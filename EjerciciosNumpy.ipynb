{
 "cells": [
  {
   "cell_type": "code",
   "execution_count": 57,
   "id": "69de0293",
   "metadata": {},
   "outputs": [],
   "source": [
    "#Dia 30 librería Numpy\n",
    "import numpy as np"
   ]
  },
  {
   "cell_type": "code",
   "execution_count": 58,
   "id": "3f2c2d8c",
   "metadata": {},
   "outputs": [
    {
     "data": {
      "text/plain": [
       "array([1, 2, 3, 4, 5, 6, 7, 8, 9])"
      ]
     },
     "execution_count": 58,
     "metadata": {},
     "output_type": "execute_result"
    }
   ],
   "source": [
    "#Crear arrays \n",
    "# a partir de una lista\n",
    "vector=np.array([1,2,3,4,5,6,7,8,9])\n",
    "vector\n"
   ]
  },
  {
   "cell_type": "code",
   "execution_count": 5,
   "id": "e72412b0",
   "metadata": {},
   "outputs": [
    {
     "data": {
      "text/plain": [
       "numpy.ndarray"
      ]
     },
     "execution_count": 5,
     "metadata": {},
     "output_type": "execute_result"
    }
   ],
   "source": [
    "type(vector)"
   ]
  },
  {
   "cell_type": "code",
   "execution_count": 6,
   "id": "054c97f9",
   "metadata": {},
   "outputs": [
    {
     "data": {
      "text/plain": [
       "array(['a', 'b', 'c'], dtype='<U1')"
      ]
     },
     "execution_count": 6,
     "metadata": {},
     "output_type": "execute_result"
    }
   ],
   "source": [
    "# a partir de una tupla\n",
    "vector=np.array([\"a\",\"b\",\"c\"])\n",
    "vector\n"
   ]
  },
  {
   "cell_type": "code",
   "execution_count": 8,
   "id": "987b7432",
   "metadata": {},
   "outputs": [
    {
     "data": {
      "text/plain": [
       "array({1, 2, 3, 4, 5, 6, 7, 8, 9}, dtype=object)"
      ]
     },
     "execution_count": 8,
     "metadata": {},
     "output_type": "execute_result"
    }
   ],
   "source": [
    "# a partir de unconjunto\n",
    "vector=np.array({1,2,3,4,5,6,7,8,9})\n",
    "vector"
   ]
  },
  {
   "cell_type": "code",
   "execution_count": 12,
   "id": "eebf829d",
   "metadata": {},
   "outputs": [
    {
     "data": {
      "text/plain": [
       "array([3, 5, 7, 9])"
      ]
     },
     "execution_count": 12,
     "metadata": {},
     "output_type": "execute_result"
    }
   ],
   "source": [
    "#con arrange\n",
    "vector = np.arange(3, 10, 2)\n",
    "vector\n"
   ]
  },
  {
   "cell_type": "code",
   "execution_count": 14,
   "id": "a1e36265",
   "metadata": {},
   "outputs": [
    {
     "data": {
      "text/plain": [
       "array([0., 0., 0., 0., 0., 0., 0.])"
      ]
     },
     "execution_count": 14,
     "metadata": {},
     "output_type": "execute_result"
    }
   ],
   "source": [
    "#rellenandocon 0 y 1\n",
    "vector =np.zeros(7)\n",
    "vector"
   ]
  },
  {
   "cell_type": "code",
   "execution_count": 17,
   "id": "8ae56c1d",
   "metadata": {},
   "outputs": [
    {
     "data": {
      "text/plain": [
       "array([1., 1., 1., 1.])"
      ]
     },
     "execution_count": 17,
     "metadata": {},
     "output_type": "execute_result"
    }
   ],
   "source": [
    "vector = np.ones(4)\n",
    "vector"
   ]
  },
  {
   "cell_type": "code",
   "execution_count": 19,
   "id": "6856adf5",
   "metadata": {},
   "outputs": [
    {
     "data": {
      "text/plain": [
       "array([ 1.  ,  3.25,  5.5 ,  7.75, 10.  ])"
      ]
     },
     "execution_count": 19,
     "metadata": {},
     "output_type": "execute_result"
    }
   ],
   "source": [
    "#con la funcion linspace()\n",
    "# 5 valores entre uno y 10 repartidos con la misma distancia\n",
    "vector = np. linspace(1,10,5)\n",
    "vector\n",
    "\n"
   ]
  },
  {
   "cell_type": "code",
   "execution_count": 21,
   "id": "0a043094",
   "metadata": {},
   "outputs": [
    {
     "data": {
      "text/plain": [
       "array([  0.,  25.,  50.,  75., 100.])"
      ]
     },
     "execution_count": 21,
     "metadata": {},
     "output_type": "execute_result"
    }
   ],
   "source": [
    "#con la funcion linspace()\n",
    "#5 valores entre  y 10 repartidos con la misma distancia\n",
    "vector = np. linspace(0,100,5)\n",
    "vector"
   ]
  },
  {
   "cell_type": "code",
   "execution_count": 27,
   "id": "a20fb21c",
   "metadata": {},
   "outputs": [
    {
     "data": {
      "text/plain": [
       "array([1, 2, 3, 4, 5])"
      ]
     },
     "execution_count": 27,
     "metadata": {},
     "output_type": "execute_result"
    }
   ],
   "source": [
    "#mezclando valores de tipos distintos\n",
    "vector = np.array([1,2,3,4,5])\n",
    "type(vector)\n",
    "vector"
   ]
  },
  {
   "cell_type": "code",
   "execution_count": 28,
   "id": "4d0602a4",
   "metadata": {},
   "outputs": [
    {
     "data": {
      "text/plain": [
       "array([1., 2., 3., 4., 5.])"
      ]
     },
     "execution_count": 28,
     "metadata": {},
     "output_type": "execute_result"
    }
   ],
   "source": [
    "#al poner el 3.0 los convierte todos en flotante\n",
    "vector = np.array([1,2,3.0,4,5])\n",
    "type(vector)\n",
    "vector"
   ]
  },
  {
   "cell_type": "code",
   "execution_count": 30,
   "id": "fcf926d5",
   "metadata": {},
   "outputs": [
    {
     "data": {
      "text/plain": [
       "array([1, 2, 4, 5, 0])"
      ]
     },
     "execution_count": 30,
     "metadata": {},
     "output_type": "execute_result"
    }
   ],
   "source": [
    "#al poner el false pone 0 que es el vlaorpor defecto de false\n",
    "vector = np.array([1,2,4,5, False])\n",
    "type(vector)\n",
    "vector"
   ]
  },
  {
   "cell_type": "code",
   "execution_count": 37,
   "id": "f27ed8cb",
   "metadata": {},
   "outputs": [
    {
     "data": {
      "text/plain": [
       "array([1.  , 2.  , 4.  , 1.05, 5.  , 0.  ])"
      ]
     },
     "execution_count": 37,
     "metadata": {},
     "output_type": "execute_result"
    }
   ],
   "source": [
    "vector = np.array([1,2,4,1.05,5, False])\n",
    "\n",
    "vector"
   ]
  },
  {
   "cell_type": "code",
   "execution_count": 39,
   "id": "a9bbfcd8",
   "metadata": {},
   "outputs": [
    {
     "data": {
      "text/plain": [
       "array(['1', '2', '4', '5', 'Hola'], dtype='<U11')"
      ]
     },
     "execution_count": 39,
     "metadata": {},
     "output_type": "execute_result"
    }
   ],
   "source": [
    "vector = np.array([1,2,4,5,\"Hola\"])\n",
    "vector"
   ]
  },
  {
   "cell_type": "code",
   "execution_count": 42,
   "id": "0309fc1f",
   "metadata": {},
   "outputs": [
    {
     "data": {
      "text/plain": [
       "array(['1', '2', '4', '5', 'Hola', 'True', '52.3'], dtype='<U32')"
      ]
     },
     "execution_count": 42,
     "metadata": {},
     "output_type": "execute_result"
    }
   ],
   "source": [
    "vector = np.array([1,2,4,5,\"Hola\",True,52.3])\n",
    "vector\n",
    "#Cuando combinamos datos los convierte al dato mas generico"
   ]
  },
  {
   "cell_type": "code",
   "execution_count": 44,
   "id": "a2a86879",
   "metadata": {},
   "outputs": [
    {
     "data": {
      "text/plain": [
       "array([1, 2, 3, 4])"
      ]
     },
     "execution_count": 44,
     "metadata": {},
     "output_type": "execute_result"
    }
   ],
   "source": [
    "#Copiar arrays\n",
    "vector1=np.array([1,2,3,4])\n",
    "vector1"
   ]
  },
  {
   "cell_type": "code",
   "execution_count": 46,
   "id": "6dcf7590",
   "metadata": {},
   "outputs": [
    {
     "data": {
      "text/plain": [
       "array([1, 2, 3, 4])"
      ]
     },
     "execution_count": 46,
     "metadata": {},
     "output_type": "execute_result"
    }
   ],
   "source": [
    "vector2=vector1\n",
    "vector2\n",
    "#vector 2 es igual que vector 1 apuntan al mismo sitio 2840497220272 id(vector1)=id(vector2) es un alias de vector uno"
   ]
  },
  {
   "cell_type": "code",
   "execution_count": 48,
   "id": "7378ca00",
   "metadata": {},
   "outputs": [
    {
     "data": {
      "text/plain": [
       "2840497220272"
      ]
     },
     "execution_count": 48,
     "metadata": {},
     "output_type": "execute_result"
    }
   ],
   "source": [
    "id(vector1)"
   ]
  },
  {
   "cell_type": "code",
   "execution_count": 50,
   "id": "16ec3cc0",
   "metadata": {},
   "outputs": [
    {
     "data": {
      "text/plain": [
       "2840497220272"
      ]
     },
     "execution_count": 50,
     "metadata": {},
     "output_type": "execute_result"
    }
   ],
   "source": [
    "id(vector2)"
   ]
  },
  {
   "cell_type": "code",
   "execution_count": 57,
   "id": "29f89652",
   "metadata": {},
   "outputs": [
    {
     "data": {
      "text/plain": [
       "2840497408784"
      ]
     },
     "execution_count": 57,
     "metadata": {},
     "output_type": "execute_result"
    }
   ],
   "source": [
    "#asi se copia y se crea otro vector y ocupa otro espacio\n",
    "vector3=np.copy(vector1)\n",
    "vector3\n",
    "id(vector3)"
   ]
  },
  {
   "cell_type": "code",
   "execution_count": 1,
   "id": "4e300162",
   "metadata": {},
   "outputs": [],
   "source": [
    "#la copia ocupa espacio pero tengo un duplicado\n",
    "#dos primeras horas con numpy  y ejercicios vamospor la pagina 50 \n"
   ]
  },
  {
   "cell_type": "markdown",
   "id": "ec538dbb",
   "metadata": {},
   "source": [
    "# Arrays multidimensionales, Matrices 31/10/2023\n",
    "# h3 Diapositiva 50 Pag 25\n"
   ]
  },
  {
   "cell_type": "code",
   "execution_count": 4,
   "id": "27606ae6",
   "metadata": {},
   "outputs": [
    {
     "data": {
      "text/plain": [
       "[[1, 2, 3], [4, 5, 6], [7, 8, 9]]"
      ]
     },
     "execution_count": 4,
     "metadata": {},
     "output_type": "execute_result"
    }
   ],
   "source": [
    "li1=[[1,2,3],[4,5,6],[7,8,9]]\n",
    "li1"
   ]
  },
  {
   "cell_type": "code",
   "execution_count": 8,
   "id": "9fac5a36",
   "metadata": {},
   "outputs": [
    {
     "data": {
      "text/plain": [
       "2"
      ]
     },
     "execution_count": 8,
     "metadata": {},
     "output_type": "execute_result"
    }
   ],
   "source": [
    "#muestra el primer elemento fila 0 columna 0\n",
    "li1[0][0]\n",
    "#muestra el segundo elemento fila 0 columna 1\n",
    "li1[0][1]\n"
   ]
  },
  {
   "cell_type": "code",
   "execution_count": 14,
   "id": "86758da1",
   "metadata": {},
   "outputs": [
    {
     "data": {
      "text/plain": [
       "array([[1, 2, 3],\n",
       "       [4, 5, 6],\n",
       "       [7, 8, 9]])"
      ]
     },
     "execution_count": 14,
     "metadata": {},
     "output_type": "execute_result"
    }
   ],
   "source": [
    "import numpy as np\n",
    "#np.array(li1)\n",
    "arr2d=np.array(li1)\n",
    "arr2d"
   ]
  },
  {
   "cell_type": "code",
   "execution_count": 19,
   "id": "8ed7b99f",
   "metadata": {},
   "outputs": [
    {
     "data": {
      "text/plain": [
       "2"
      ]
     },
     "execution_count": 19,
     "metadata": {},
     "output_type": "execute_result"
    }
   ],
   "source": [
    "#Dimensión del array arr2d\n",
    "arr2d.ndim\n"
   ]
  },
  {
   "cell_type": "code",
   "execution_count": 20,
   "id": "a357db7b",
   "metadata": {},
   "outputs": [
    {
     "data": {
      "text/plain": [
       "1"
      ]
     },
     "execution_count": 20,
     "metadata": {},
     "output_type": "execute_result"
    }
   ],
   "source": [
    "#Dimensión del array arr1d\n",
    "\n",
    "arr1d=np.array([1,3,5,7,9])\n",
    "arr1d.ndim"
   ]
  },
  {
   "cell_type": "code",
   "execution_count": 27,
   "id": "8a404198",
   "metadata": {},
   "outputs": [
    {
     "data": {
      "text/plain": [
       "array([[[1, 2],\n",
       "        [3, 4]],\n",
       "\n",
       "       [[5, 6],\n",
       "        [7, 8]]])"
      ]
     },
     "execution_count": 27,
     "metadata": {},
     "output_type": "execute_result"
    }
   ],
   "source": [
    "#array de arrays\n",
    "arr3d=np.array([[[1,2],[3,4]],[[5,6],[7,8]]])\n",
    "arr3d"
   ]
  },
  {
   "cell_type": "code",
   "execution_count": 29,
   "id": "ef73a27c",
   "metadata": {},
   "outputs": [
    {
     "data": {
      "text/plain": [
       "3"
      ]
     },
     "execution_count": 29,
     "metadata": {},
     "output_type": "execute_result"
    }
   ],
   "source": [
    "arr3d.ndim"
   ]
  },
  {
   "cell_type": "code",
   "execution_count": 31,
   "id": "40e8873e",
   "metadata": {},
   "outputs": [
    {
     "data": {
      "text/plain": [
       "array([[0., 0., 0.],\n",
       "       [0., 0., 0.]])"
      ]
     },
     "execution_count": 31,
     "metadata": {},
     "output_type": "execute_result"
    }
   ],
   "source": [
    "#Matriz de 2x3 de 0 \n",
    "np.zeros((2,3))"
   ]
  },
  {
   "cell_type": "code",
   "execution_count": 34,
   "id": "b80d0c4f",
   "metadata": {},
   "outputs": [
    {
     "data": {
      "text/plain": [
       "numpy.float64"
      ]
     },
     "execution_count": 34,
     "metadata": {},
     "output_type": "execute_result"
    }
   ],
   "source": [
    "#typo del primer elemento de la matriz\n",
    "arr2dZero=np.zeros((2,3))\n",
    "type(arr2dZero[0][0])"
   ]
  },
  {
   "cell_type": "code",
   "execution_count": 38,
   "id": "ade9e5bf",
   "metadata": {},
   "outputs": [
    {
     "data": {
      "text/plain": [
       "array([[0, 0, 0],\n",
       "       [0, 0, 0]], dtype=int64)"
      ]
     },
     "execution_count": 38,
     "metadata": {},
     "output_type": "execute_result"
    }
   ],
   "source": [
    "#Puedo indicar el tipo de los datos de la  matriz\n",
    "arr2dZero1=np.zeros((2,3), dtype='int64')\n",
    "arr2dZero1\n"
   ]
  },
  {
   "cell_type": "code",
   "execution_count": 40,
   "id": "6528e376",
   "metadata": {},
   "outputs": [
    {
     "data": {
      "text/plain": [
       "numpy.int64"
      ]
     },
     "execution_count": 40,
     "metadata": {},
     "output_type": "execute_result"
    }
   ],
   "source": [
    "type(arr2dZero1[0][0])"
   ]
  },
  {
   "cell_type": "markdown",
   "id": "6dc1179c",
   "metadata": {},
   "source": [
    "# Propiedades de las matrices o arrays de dos o mas dimensiones Pag29 Dp57"
   ]
  },
  {
   "cell_type": "code",
   "execution_count": 45,
   "id": "3c86235e",
   "metadata": {},
   "outputs": [
    {
     "data": {
      "text/plain": [
       "array([[1, 2, 3],\n",
       "       [4, 5, 6],\n",
       "       [7, 8, 9]])"
      ]
     },
     "execution_count": 45,
     "metadata": {},
     "output_type": "execute_result"
    }
   ],
   "source": [
    "a=np.array([[1,2,3],[4,5,6],[7,8,9]])\n",
    "a"
   ]
  },
  {
   "cell_type": "code",
   "execution_count": 47,
   "id": "838e2e2a",
   "metadata": {},
   "outputs": [
    {
     "data": {
      "text/plain": [
       "9"
      ]
     },
     "execution_count": 47,
     "metadata": {},
     "output_type": "execute_result"
    }
   ],
   "source": [
    "a.size #tamaño"
   ]
  },
  {
   "cell_type": "code",
   "execution_count": 49,
   "id": "8a1058bf",
   "metadata": {},
   "outputs": [
    {
     "data": {
      "text/plain": [
       "(3, 3)"
      ]
     },
     "execution_count": 49,
     "metadata": {},
     "output_type": "execute_result"
    }
   ],
   "source": [
    "a.shape #forma, Convertir la fila y las columnas en una tupla matriz de 3x3"
   ]
  },
  {
   "cell_type": "code",
   "execution_count": 51,
   "id": "4f792d98",
   "metadata": {},
   "outputs": [
    {
     "data": {
      "text/plain": [
       "2"
      ]
     },
     "execution_count": 51,
     "metadata": {},
     "output_type": "execute_result"
    }
   ],
   "source": [
    "a.ndim"
   ]
  },
  {
   "cell_type": "code",
   "execution_count": 53,
   "id": "ddc9c803",
   "metadata": {},
   "outputs": [
    {
     "data": {
      "text/plain": [
       "(4,)"
      ]
     },
     "execution_count": 53,
     "metadata": {},
     "output_type": "execute_result"
    }
   ],
   "source": [
    "#para matrices unidimensionales (vectores), las tuplas devuelven el número de elementos\n",
    "a1=np.array([2,5,1,3])\n",
    "a1.shape"
   ]
  },
  {
   "cell_type": "code",
   "execution_count": 55,
   "id": "a4b22874",
   "metadata": {},
   "outputs": [
    {
     "data": {
      "text/plain": [
       "array([ 0,  1,  2,  3,  4,  5,  6,  7,  8,  9, 10, 11, 12, 13, 14])"
      ]
     },
     "execution_count": 55,
     "metadata": {},
     "output_type": "execute_result"
    }
   ],
   "source": [
    "#reformar cambiar de vector a matriz de dos dimensiones\n",
    "a2=np.arange(15)\n",
    "a2"
   ]
  },
  {
   "cell_type": "code",
   "execution_count": 59,
   "id": "5a429636",
   "metadata": {},
   "outputs": [
    {
     "data": {
      "text/plain": [
       "array([[ 0,  1,  2,  3,  4],\n",
       "       [ 5,  6,  7,  8,  9],\n",
       "       [10, 11, 12, 13, 14]])"
      ]
     },
     "execution_count": 59,
     "metadata": {},
     "output_type": "execute_result"
    }
   ],
   "source": [
    "a2.reshape((3,5)) #convierte el vector en un amatriz de 3x5"
   ]
  },
  {
   "cell_type": "code",
   "execution_count": null,
   "id": "68c3ec2d",
   "metadata": {},
   "outputs": [],
   "source": [
    "#pag31 diapositiva 61\n"
   ]
  }
 ],
 "metadata": {
  "kernelspec": {
   "display_name": "Python 3 (ipykernel)",
   "language": "python",
   "name": "python3"
  },
  "language_info": {
   "codemirror_mode": {
    "name": "ipython",
    "version": 3
   },
   "file_extension": ".py",
   "mimetype": "text/x-python",
   "name": "python",
   "nbconvert_exporter": "python",
   "pygments_lexer": "ipython3",
   "version": "3.10.9"
  }
 },
 "nbformat": 4,
 "nbformat_minor": 5
}
