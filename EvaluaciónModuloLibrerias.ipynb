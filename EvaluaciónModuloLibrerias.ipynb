{
 "cells": [
  {
   "cell_type": "markdown",
   "id": "04fbf342",
   "metadata": {},
   "source": [
    "# Prueba de evaluación del módulo de librerias Python\n",
    "### Módulo 3: Matrices NumPy para cómputo numérico optimizado & Pandas para análisis de datos exploratorios"
   ]
  },
  {
   "cell_type": "markdown",
   "id": "370a39a3",
   "metadata": {},
   "source": [
    "### Nombre y apellidos: "
   ]
  },
  {
   "cell_type": "code",
   "execution_count": 3,
   "id": "ed855e45",
   "metadata": {},
   "outputs": [],
   "source": [
    "import numpy as np\n",
    "import pandas as pd\n",
    "import seaborn as sns\n",
    "import matplotlib.pyplot as plt\n",
    "%matplotlib inline"
   ]
  },
  {
   "cell_type": "markdown",
   "id": "6c7896e6",
   "metadata": {},
   "source": [
    "## Ejercicio 1: Listas vs NumPy (1 punto)\n",
    "Responde a las siguientes cuestiones relacionadas con la librería NumPy:"
   ]
  },
  {
   "cell_type": "markdown",
   "id": "99e01a70",
   "metadata": {},
   "source": [
    "Una aplicación de comercio electrónico ofrece a los usuarios registrados más de 1.000.000 de productos. En transcurso de un día, aproximadamente se eliminan 5000 productos existentes y se añaden 6000 nuevos. La empresa quiere hacer al final de cada día el cálculo de la media de los precios de todos los productos, para lo que se plantea las opciones de almacenar los productos como una lista Python o como una matriz Numpy. "
   ]
  },
  {
   "cell_type": "markdown",
   "id": "b9219a8a",
   "metadata": {},
   "source": [
    "¿Qué ventajas e inconvenientes le ves a cada opción?. "
   ]
  },
  {
   "cell_type": "markdown",
   "id": "030484be",
   "metadata": {},
   "source": [
    "Respuesta: \n",
    "Almacenar los productos como una lista en Python es flexible y fácil de manipular, pero las operaciones numéricas pueden ser lentas. En cambio, usar una matriz Numpy ofrece eficiencia en cálculos matemáticos, pero puede ser menos intuitiva. La elección depende de la prioridad entre simplicidad y rendimiento.\n",
    "\n"
   ]
  },
  {
   "cell_type": "markdown",
   "id": "6802aff1",
   "metadata": {},
   "source": [
    "¿Qué opción elegirías si la lista de productos se actualiza cada 20 segundos (borrando y añadiendo elementos) y ante cada cambio hay que recalcular la media? Justifica tu respuesta."
   ]
  },
  {
   "cell_type": "markdown",
   "id": "0224953b",
   "metadata": {},
   "source": [
    "Respuesta:\n",
    "\n",
    "Elegiría Numpy debido a las actualizaciones frecuentes. Su capacidad para realizar cálculos eficientes agilizaría el recálculo diario de medias, optimizando el rendimiento en operaciones numéricas repetitivas con adiciones y eliminaciones constantes de productos.\n",
    "\n",
    "\n",
    "\n"
   ]
  },
  {
   "cell_type": "markdown",
   "id": "077b4cba",
   "metadata": {},
   "source": [
    "\n"
   ]
  },
  {
   "cell_type": "markdown",
   "id": "9bd71c9f",
   "metadata": {},
   "source": [
    "## Ejercicio 2: Operaciones con NumPy (1 punto)"
   ]
  },
  {
   "cell_type": "markdown",
   "id": "1ce1dfe2",
   "metadata": {},
   "source": [
    "### Indica las instrucciones NumPy a usar para los siguientes casos:"
   ]
  },
  {
   "cell_type": "markdown",
   "id": "8a0ac116",
   "metadata": {},
   "source": [
    "1. Crea un vector de 15 elementos que contenga los valores entre 5 y 19 (ambos inclusive)"
   ]
  },
  {
   "cell_type": "code",
   "execution_count": 4,
   "id": "61fe9d62",
   "metadata": {},
   "outputs": [
    {
     "data": {
      "text/plain": [
       "[5, 6, 7, 8, 9, 10, 11, 12, 13, 14, 15, 16, 17, 18, 19]"
      ]
     },
     "execution_count": 4,
     "metadata": {},
     "output_type": "execute_result"
    }
   ],
   "source": [
    "vector = list(range(5, 20))\n",
    "vector\n"
   ]
  },
  {
   "cell_type": "markdown",
   "id": "c403899d",
   "metadata": {},
   "source": [
    "2. Crea un vector de 10 elementos inicializado con números igualmente espaciados entre 100 y 500"
   ]
  },
  {
   "cell_type": "code",
   "execution_count": 5,
   "id": "cfd244ae",
   "metadata": {},
   "outputs": [
    {
     "data": {
      "text/plain": [
       "array([100.        , 144.44444444, 188.88888889, 233.33333333,\n",
       "       277.77777778, 322.22222222, 366.66666667, 411.11111111,\n",
       "       455.55555556, 500.        ])"
      ]
     },
     "execution_count": 5,
     "metadata": {},
     "output_type": "execute_result"
    }
   ],
   "source": [
    "vector = np. linspace(100,500,10)\n",
    "vector"
   ]
  },
  {
   "cell_type": "markdown",
   "id": "aae1ef29",
   "metadata": {},
   "source": [
    "3. Crea una matrix de dimensión 4x7 rellena de unos"
   ]
  },
  {
   "cell_type": "code",
   "execution_count": 6,
   "id": "b8f227c9",
   "metadata": {},
   "outputs": [
    {
     "data": {
      "text/plain": [
       "array([[1., 1., 1., 1., 1., 1., 1.],\n",
       "       [1., 1., 1., 1., 1., 1., 1.],\n",
       "       [1., 1., 1., 1., 1., 1., 1.],\n",
       "       [1., 1., 1., 1., 1., 1., 1.]])"
      ]
     },
     "execution_count": 6,
     "metadata": {},
     "output_type": "execute_result"
    }
   ],
   "source": [
    "np.ones((4,7))"
   ]
  },
  {
   "cell_type": "markdown",
   "id": "6d359805",
   "metadata": {},
   "source": [
    "Dada la siguiente matrix: ```m = np.array([[1, 2, 3], [4, 5, 6], [7, 8, 9], [10, 11, 12]])```, escribe las instrucciones para: "
   ]
  },
  {
   "cell_type": "markdown",
   "id": "a33fb6df",
   "metadata": {},
   "source": [
    "4. Acceder a la primera fila"
   ]
  },
  {
   "cell_type": "code",
   "execution_count": 9,
   "id": "880d2a65",
   "metadata": {},
   "outputs": [
    {
     "data": {
      "text/plain": [
       "array([1, 2, 3])"
      ]
     },
     "execution_count": 9,
     "metadata": {},
     "output_type": "execute_result"
    }
   ],
   "source": [
    "m = np.array([[1, 2, 3], [4, 5, 6], [7, 8, 9], [10, 11, 12]])\n",
    "m[0]"
   ]
  },
  {
   "cell_type": "markdown",
   "id": "81c9ff3c",
   "metadata": {},
   "source": [
    "5. Acceder a la penúltima fila"
   ]
  },
  {
   "cell_type": "code",
   "execution_count": 10,
   "id": "a8f74dc7",
   "metadata": {},
   "outputs": [
    {
     "data": {
      "text/plain": [
       "array([7, 8, 9])"
      ]
     },
     "execution_count": 10,
     "metadata": {},
     "output_type": "execute_result"
    }
   ],
   "source": [
    "m[-2]"
   ]
  },
  {
   "cell_type": "markdown",
   "id": "bc114bcd",
   "metadata": {},
   "source": [
    "6. Acceder al elemento de la fila 3 y columna 2"
   ]
  },
  {
   "cell_type": "code",
   "execution_count": 12,
   "id": "fa302b29",
   "metadata": {},
   "outputs": [
    {
     "data": {
      "text/plain": [
       "8"
      ]
     },
     "execution_count": 12,
     "metadata": {},
     "output_type": "execute_result"
    }
   ],
   "source": [
    "m[2][1]"
   ]
  },
  {
   "cell_type": "markdown",
   "id": "9242650e",
   "metadata": {},
   "source": [
    "7. Seleccionar las filas entre la 1 y la 3"
   ]
  },
  {
   "cell_type": "code",
   "execution_count": 14,
   "id": "b59556be",
   "metadata": {},
   "outputs": [
    {
     "data": {
      "text/plain": [
       "array([[1, 2, 3],\n",
       "       [4, 5, 6],\n",
       "       [7, 8, 9]])"
      ]
     },
     "execution_count": 14,
     "metadata": {},
     "output_type": "execute_result"
    }
   ],
   "source": [
    "m[0:3]#incluida la 1 y la 3\n"
   ]
  },
  {
   "cell_type": "code",
   "execution_count": 16,
   "id": "d3b0f926",
   "metadata": {},
   "outputs": [
    {
     "data": {
      "text/plain": [
       "array([[4, 5, 6]])"
      ]
     },
     "execution_count": 16,
     "metadata": {},
     "output_type": "execute_result"
    }
   ],
   "source": [
    "m[1:2]#sin incluir la 1 y la 3"
   ]
  },
  {
   "cell_type": "markdown",
   "id": "cca85b14",
   "metadata": {},
   "source": [
    "8. Añadir la fila ```[0, 4, 1]```"
   ]
  },
  {
   "cell_type": "code",
   "execution_count": 17,
   "id": "bf7d9316",
   "metadata": {},
   "outputs": [
    {
     "data": {
      "text/plain": [
       "array([[ 1,  2,  3],\n",
       "       [ 4,  5,  6],\n",
       "       [ 7,  8,  9],\n",
       "       [10, 11, 12],\n",
       "       [ 0,  4,  1]])"
      ]
     },
     "execution_count": 17,
     "metadata": {},
     "output_type": "execute_result"
    }
   ],
   "source": [
    "fila=np.array([0, 4, 1])\n",
    "m2=np.append(m,[fila],axis=0)\n",
    "m2"
   ]
  },
  {
   "cell_type": "markdown",
   "id": "df9f3323",
   "metadata": {},
   "source": [
    "8. Añadir una columna con los valores ```[5,2,5,7]```"
   ]
  },
  {
   "cell_type": "code",
   "execution_count": 20,
   "id": "ed6e4105",
   "metadata": {},
   "outputs": [
    {
     "data": {
      "text/plain": [
       "array([[ 1,  2,  3,  5],\n",
       "       [ 4,  5,  6,  2],\n",
       "       [ 7,  8,  9,  5],\n",
       "       [10, 11, 12,  7]])"
      ]
     },
     "execution_count": 20,
     "metadata": {},
     "output_type": "execute_result"
    }
   ],
   "source": [
    "columna=np.array([[5],[2],[5],[7]])\n",
    "m3=np.append(m,columna,axis=1)\n",
    "m3"
   ]
  },
  {
   "cell_type": "markdown",
   "id": "8312d71f",
   "metadata": {},
   "source": [
    "9. Calcular la media de cada fila"
   ]
  },
  {
   "cell_type": "code",
   "execution_count": 23,
   "id": "eb7ee845",
   "metadata": {},
   "outputs": [
    {
     "data": {
      "text/plain": [
       "array([ 2.,  5.,  8., 11.])"
      ]
     },
     "execution_count": 23,
     "metadata": {},
     "output_type": "execute_result"
    }
   ],
   "source": [
    "media_filas=np.mean(m,axis=1)\n",
    "media_filas"
   ]
  },
  {
   "cell_type": "markdown",
   "id": "4cbe6dd8",
   "metadata": {},
   "source": [
    "10. Calcular la mediana de cada columna"
   ]
  },
  {
   "cell_type": "code",
   "execution_count": 25,
   "id": "f8fdcf6b",
   "metadata": {},
   "outputs": [
    {
     "data": {
      "text/plain": [
       "array([5.5, 6.5, 7.5])"
      ]
     },
     "execution_count": 25,
     "metadata": {},
     "output_type": "execute_result"
    }
   ],
   "source": [
    "media_columnas=np.mean(m,axis=0)\n",
    "media_columnas"
   ]
  },
  {
   "cell_type": "markdown",
   "id": "5c1411a2",
   "metadata": {},
   "source": [
    "## Ejercicio 3: Operaciones con Pandas (2 puntos)"
   ]
  },
  {
   "cell_type": "markdown",
   "id": "bf6e9dbf",
   "metadata": {},
   "source": [
    "### Paso previo: leer el fichero de datos de aeropuertos:"
   ]
  },
  {
   "cell_type": "markdown",
   "id": "50362a06",
   "metadata": {},
   "source": []
  },
  {
   "cell_type": "code",
   "execution_count": 27,
   "id": "295d2846",
   "metadata": {},
   "outputs": [
    {
     "data": {
      "text/html": [
       "<div>\n",
       "<style scoped>\n",
       "    .dataframe tbody tr th:only-of-type {\n",
       "        vertical-align: middle;\n",
       "    }\n",
       "\n",
       "    .dataframe tbody tr th {\n",
       "        vertical-align: top;\n",
       "    }\n",
       "\n",
       "    .dataframe thead th {\n",
       "        text-align: right;\n",
       "    }\n",
       "</style>\n",
       "<table border=\"1\" class=\"dataframe\">\n",
       "  <thead>\n",
       "    <tr style=\"text-align: right;\">\n",
       "      <th></th>\n",
       "      <th>id</th>\n",
       "      <th>ident</th>\n",
       "      <th>type</th>\n",
       "      <th>name</th>\n",
       "      <th>latitude_deg</th>\n",
       "      <th>longitude_deg</th>\n",
       "      <th>elevation_ft</th>\n",
       "      <th>continent</th>\n",
       "      <th>iso_country</th>\n",
       "      <th>iso_region</th>\n",
       "      <th>municipality</th>\n",
       "      <th>scheduled_service</th>\n",
       "      <th>gps_code</th>\n",
       "      <th>iata_code</th>\n",
       "      <th>local_code</th>\n",
       "      <th>home_link</th>\n",
       "      <th>wikipedia_link</th>\n",
       "      <th>keywords</th>\n",
       "    </tr>\n",
       "  </thead>\n",
       "  <tbody>\n",
       "    <tr>\n",
       "      <th>0</th>\n",
       "      <td>6523</td>\n",
       "      <td>00A</td>\n",
       "      <td>heliport</td>\n",
       "      <td>Total RF Heliport</td>\n",
       "      <td>40.070985</td>\n",
       "      <td>-74.933689</td>\n",
       "      <td>11.0</td>\n",
       "      <td>NaN</td>\n",
       "      <td>US</td>\n",
       "      <td>US-PA</td>\n",
       "      <td>Bensalem</td>\n",
       "      <td>no</td>\n",
       "      <td>K00A</td>\n",
       "      <td>NaN</td>\n",
       "      <td>00A</td>\n",
       "      <td>https://www.penndot.pa.gov/TravelInPA/airports...</td>\n",
       "      <td>NaN</td>\n",
       "      <td>NaN</td>\n",
       "    </tr>\n",
       "    <tr>\n",
       "      <th>1</th>\n",
       "      <td>323361</td>\n",
       "      <td>00AA</td>\n",
       "      <td>small_airport</td>\n",
       "      <td>Aero B Ranch Airport</td>\n",
       "      <td>38.704022</td>\n",
       "      <td>-101.473911</td>\n",
       "      <td>3435.0</td>\n",
       "      <td>NaN</td>\n",
       "      <td>US</td>\n",
       "      <td>US-KS</td>\n",
       "      <td>Leoti</td>\n",
       "      <td>no</td>\n",
       "      <td>00AA</td>\n",
       "      <td>NaN</td>\n",
       "      <td>00AA</td>\n",
       "      <td>NaN</td>\n",
       "      <td>NaN</td>\n",
       "      <td>NaN</td>\n",
       "    </tr>\n",
       "    <tr>\n",
       "      <th>2</th>\n",
       "      <td>6524</td>\n",
       "      <td>00AK</td>\n",
       "      <td>small_airport</td>\n",
       "      <td>Lowell Field</td>\n",
       "      <td>59.947733</td>\n",
       "      <td>-151.692524</td>\n",
       "      <td>450.0</td>\n",
       "      <td>NaN</td>\n",
       "      <td>US</td>\n",
       "      <td>US-AK</td>\n",
       "      <td>Anchor Point</td>\n",
       "      <td>no</td>\n",
       "      <td>00AK</td>\n",
       "      <td>NaN</td>\n",
       "      <td>00AK</td>\n",
       "      <td>NaN</td>\n",
       "      <td>NaN</td>\n",
       "      <td>NaN</td>\n",
       "    </tr>\n",
       "    <tr>\n",
       "      <th>3</th>\n",
       "      <td>6525</td>\n",
       "      <td>00AL</td>\n",
       "      <td>small_airport</td>\n",
       "      <td>Epps Airpark</td>\n",
       "      <td>34.864799</td>\n",
       "      <td>-86.770302</td>\n",
       "      <td>820.0</td>\n",
       "      <td>NaN</td>\n",
       "      <td>US</td>\n",
       "      <td>US-AL</td>\n",
       "      <td>Harvest</td>\n",
       "      <td>no</td>\n",
       "      <td>00AL</td>\n",
       "      <td>NaN</td>\n",
       "      <td>00AL</td>\n",
       "      <td>NaN</td>\n",
       "      <td>NaN</td>\n",
       "      <td>NaN</td>\n",
       "    </tr>\n",
       "    <tr>\n",
       "      <th>4</th>\n",
       "      <td>506791</td>\n",
       "      <td>00AN</td>\n",
       "      <td>small_airport</td>\n",
       "      <td>Katmai Lodge Airport</td>\n",
       "      <td>59.093287</td>\n",
       "      <td>-156.456699</td>\n",
       "      <td>80.0</td>\n",
       "      <td>NaN</td>\n",
       "      <td>US</td>\n",
       "      <td>US-AK</td>\n",
       "      <td>King Salmon</td>\n",
       "      <td>no</td>\n",
       "      <td>00AN</td>\n",
       "      <td>NaN</td>\n",
       "      <td>00AN</td>\n",
       "      <td>NaN</td>\n",
       "      <td>NaN</td>\n",
       "      <td>NaN</td>\n",
       "    </tr>\n",
       "    <tr>\n",
       "      <th>...</th>\n",
       "      <td>...</td>\n",
       "      <td>...</td>\n",
       "      <td>...</td>\n",
       "      <td>...</td>\n",
       "      <td>...</td>\n",
       "      <td>...</td>\n",
       "      <td>...</td>\n",
       "      <td>...</td>\n",
       "      <td>...</td>\n",
       "      <td>...</td>\n",
       "      <td>...</td>\n",
       "      <td>...</td>\n",
       "      <td>...</td>\n",
       "      <td>...</td>\n",
       "      <td>...</td>\n",
       "      <td>...</td>\n",
       "      <td>...</td>\n",
       "      <td>...</td>\n",
       "    </tr>\n",
       "    <tr>\n",
       "      <th>76833</th>\n",
       "      <td>46378</td>\n",
       "      <td>ZZ-0001</td>\n",
       "      <td>heliport</td>\n",
       "      <td>Sealand Helipad</td>\n",
       "      <td>51.894444</td>\n",
       "      <td>1.482500</td>\n",
       "      <td>40.0</td>\n",
       "      <td>EU</td>\n",
       "      <td>GB</td>\n",
       "      <td>GB-ENG</td>\n",
       "      <td>Sealand</td>\n",
       "      <td>no</td>\n",
       "      <td>NaN</td>\n",
       "      <td>NaN</td>\n",
       "      <td>NaN</td>\n",
       "      <td>http://www.sealandgov.org/</td>\n",
       "      <td>https://en.wikipedia.org/wiki/Principality_of_...</td>\n",
       "      <td>Roughs Tower Helipad</td>\n",
       "    </tr>\n",
       "    <tr>\n",
       "      <th>76834</th>\n",
       "      <td>307326</td>\n",
       "      <td>ZZ-0002</td>\n",
       "      <td>small_airport</td>\n",
       "      <td>Glorioso Islands Airstrip</td>\n",
       "      <td>-11.584278</td>\n",
       "      <td>47.296389</td>\n",
       "      <td>11.0</td>\n",
       "      <td>AF</td>\n",
       "      <td>TF</td>\n",
       "      <td>TF-U-A</td>\n",
       "      <td>Grande Glorieuse</td>\n",
       "      <td>no</td>\n",
       "      <td>NaN</td>\n",
       "      <td>NaN</td>\n",
       "      <td>NaN</td>\n",
       "      <td>NaN</td>\n",
       "      <td>NaN</td>\n",
       "      <td>NaN</td>\n",
       "    </tr>\n",
       "    <tr>\n",
       "      <th>76835</th>\n",
       "      <td>346788</td>\n",
       "      <td>ZZ-0003</td>\n",
       "      <td>small_airport</td>\n",
       "      <td>Fainting Goat Airport</td>\n",
       "      <td>32.110587</td>\n",
       "      <td>-97.356312</td>\n",
       "      <td>690.0</td>\n",
       "      <td>NaN</td>\n",
       "      <td>US</td>\n",
       "      <td>US-TX</td>\n",
       "      <td>Blum</td>\n",
       "      <td>no</td>\n",
       "      <td>87TX</td>\n",
       "      <td>NaN</td>\n",
       "      <td>87TX</td>\n",
       "      <td>NaN</td>\n",
       "      <td>NaN</td>\n",
       "      <td>NaN</td>\n",
       "    </tr>\n",
       "    <tr>\n",
       "      <th>76836</th>\n",
       "      <td>342102</td>\n",
       "      <td>ZZZW</td>\n",
       "      <td>closed</td>\n",
       "      <td>Scandium City Heliport</td>\n",
       "      <td>69.355287</td>\n",
       "      <td>-138.939310</td>\n",
       "      <td>4.0</td>\n",
       "      <td>NaN</td>\n",
       "      <td>CA</td>\n",
       "      <td>CA-YT</td>\n",
       "      <td>(Old) Scandium City</td>\n",
       "      <td>no</td>\n",
       "      <td>NaN</td>\n",
       "      <td>NaN</td>\n",
       "      <td>NaN</td>\n",
       "      <td>NaN</td>\n",
       "      <td>NaN</td>\n",
       "      <td>ZZZW, ZZZW, ZYW, YK96</td>\n",
       "    </tr>\n",
       "    <tr>\n",
       "      <th>76837</th>\n",
       "      <td>313629</td>\n",
       "      <td>ZZZZ</td>\n",
       "      <td>small_airport</td>\n",
       "      <td>Satsuma Iōjima Airport</td>\n",
       "      <td>30.784722</td>\n",
       "      <td>130.270556</td>\n",
       "      <td>338.0</td>\n",
       "      <td>AS</td>\n",
       "      <td>JP</td>\n",
       "      <td>JP-46</td>\n",
       "      <td>Mishima</td>\n",
       "      <td>no</td>\n",
       "      <td>RJX7</td>\n",
       "      <td>NaN</td>\n",
       "      <td>RJX7</td>\n",
       "      <td>NaN</td>\n",
       "      <td>http://wikimapia.org/6705190/Satsuma-Iwo-jima-...</td>\n",
       "      <td>SATSUMA,IWOJIMA,RJX7</td>\n",
       "    </tr>\n",
       "  </tbody>\n",
       "</table>\n",
       "<p>76838 rows × 18 columns</p>\n",
       "</div>"
      ],
      "text/plain": [
       "           id    ident           type                       name  \\\n",
       "0        6523      00A       heliport          Total RF Heliport   \n",
       "1      323361     00AA  small_airport       Aero B Ranch Airport   \n",
       "2        6524     00AK  small_airport               Lowell Field   \n",
       "3        6525     00AL  small_airport               Epps Airpark   \n",
       "4      506791     00AN  small_airport       Katmai Lodge Airport   \n",
       "...       ...      ...            ...                        ...   \n",
       "76833   46378  ZZ-0001       heliport            Sealand Helipad   \n",
       "76834  307326  ZZ-0002  small_airport  Glorioso Islands Airstrip   \n",
       "76835  346788  ZZ-0003  small_airport      Fainting Goat Airport   \n",
       "76836  342102     ZZZW         closed     Scandium City Heliport   \n",
       "76837  313629     ZZZZ  small_airport     Satsuma Iōjima Airport   \n",
       "\n",
       "       latitude_deg  longitude_deg  elevation_ft continent iso_country  \\\n",
       "0         40.070985     -74.933689          11.0       NaN          US   \n",
       "1         38.704022    -101.473911        3435.0       NaN          US   \n",
       "2         59.947733    -151.692524         450.0       NaN          US   \n",
       "3         34.864799     -86.770302         820.0       NaN          US   \n",
       "4         59.093287    -156.456699          80.0       NaN          US   \n",
       "...             ...            ...           ...       ...         ...   \n",
       "76833     51.894444       1.482500          40.0        EU          GB   \n",
       "76834    -11.584278      47.296389          11.0        AF          TF   \n",
       "76835     32.110587     -97.356312         690.0       NaN          US   \n",
       "76836     69.355287    -138.939310           4.0       NaN          CA   \n",
       "76837     30.784722     130.270556         338.0        AS          JP   \n",
       "\n",
       "      iso_region         municipality scheduled_service gps_code iata_code  \\\n",
       "0          US-PA             Bensalem                no     K00A       NaN   \n",
       "1          US-KS                Leoti                no     00AA       NaN   \n",
       "2          US-AK         Anchor Point                no     00AK       NaN   \n",
       "3          US-AL              Harvest                no     00AL       NaN   \n",
       "4          US-AK          King Salmon                no     00AN       NaN   \n",
       "...          ...                  ...               ...      ...       ...   \n",
       "76833     GB-ENG              Sealand                no      NaN       NaN   \n",
       "76834     TF-U-A     Grande Glorieuse                no      NaN       NaN   \n",
       "76835      US-TX                 Blum                no     87TX       NaN   \n",
       "76836      CA-YT  (Old) Scandium City                no      NaN       NaN   \n",
       "76837      JP-46              Mishima                no     RJX7       NaN   \n",
       "\n",
       "      local_code                                          home_link  \\\n",
       "0            00A  https://www.penndot.pa.gov/TravelInPA/airports...   \n",
       "1           00AA                                                NaN   \n",
       "2           00AK                                                NaN   \n",
       "3           00AL                                                NaN   \n",
       "4           00AN                                                NaN   \n",
       "...          ...                                                ...   \n",
       "76833        NaN                         http://www.sealandgov.org/   \n",
       "76834        NaN                                                NaN   \n",
       "76835       87TX                                                NaN   \n",
       "76836        NaN                                                NaN   \n",
       "76837       RJX7                                                NaN   \n",
       "\n",
       "                                          wikipedia_link  \\\n",
       "0                                                    NaN   \n",
       "1                                                    NaN   \n",
       "2                                                    NaN   \n",
       "3                                                    NaN   \n",
       "4                                                    NaN   \n",
       "...                                                  ...   \n",
       "76833  https://en.wikipedia.org/wiki/Principality_of_...   \n",
       "76834                                                NaN   \n",
       "76835                                                NaN   \n",
       "76836                                                NaN   \n",
       "76837  http://wikimapia.org/6705190/Satsuma-Iwo-jima-...   \n",
       "\n",
       "                    keywords  \n",
       "0                        NaN  \n",
       "1                        NaN  \n",
       "2                        NaN  \n",
       "3                        NaN  \n",
       "4                        NaN  \n",
       "...                      ...  \n",
       "76833   Roughs Tower Helipad  \n",
       "76834                    NaN  \n",
       "76835                    NaN  \n",
       "76836  ZZZW, ZZZW, ZYW, YK96  \n",
       "76837   SATSUMA,IWOJIMA,RJX7  \n",
       "\n",
       "[76838 rows x 18 columns]"
      ]
     },
     "execution_count": 27,
     "metadata": {},
     "output_type": "execute_result"
    }
   ],
   "source": [
    "airports = pd.read_csv(\"https://davidmegginson.github.io/ourairports-data/airports.csv\", header=\"infer\")\n",
    "airports"
   ]
  },
  {
   "cell_type": "code",
   "execution_count": 29,
   "id": "f4d65aff",
   "metadata": {},
   "outputs": [
    {
     "data": {
      "text/html": [
       "<div>\n",
       "<style scoped>\n",
       "    .dataframe tbody tr th:only-of-type {\n",
       "        vertical-align: middle;\n",
       "    }\n",
       "\n",
       "    .dataframe tbody tr th {\n",
       "        vertical-align: top;\n",
       "    }\n",
       "\n",
       "    .dataframe thead th {\n",
       "        text-align: right;\n",
       "    }\n",
       "</style>\n",
       "<table border=\"1\" class=\"dataframe\">\n",
       "  <thead>\n",
       "    <tr style=\"text-align: right;\">\n",
       "      <th></th>\n",
       "      <th>id</th>\n",
       "      <th>ident</th>\n",
       "      <th>type</th>\n",
       "      <th>name</th>\n",
       "      <th>latitude_deg</th>\n",
       "      <th>longitude_deg</th>\n",
       "      <th>elevation_ft</th>\n",
       "      <th>continent</th>\n",
       "      <th>iso_country</th>\n",
       "      <th>iso_region</th>\n",
       "      <th>municipality</th>\n",
       "      <th>scheduled_service</th>\n",
       "      <th>gps_code</th>\n",
       "      <th>iata_code</th>\n",
       "      <th>local_code</th>\n",
       "      <th>home_link</th>\n",
       "      <th>wikipedia_link</th>\n",
       "      <th>keywords</th>\n",
       "    </tr>\n",
       "  </thead>\n",
       "  <tbody>\n",
       "    <tr>\n",
       "      <th>0</th>\n",
       "      <td>6523</td>\n",
       "      <td>00A</td>\n",
       "      <td>heliport</td>\n",
       "      <td>Total RF Heliport</td>\n",
       "      <td>40.070985</td>\n",
       "      <td>-74.933689</td>\n",
       "      <td>11.0</td>\n",
       "      <td>NaN</td>\n",
       "      <td>US</td>\n",
       "      <td>US-PA</td>\n",
       "      <td>Bensalem</td>\n",
       "      <td>no</td>\n",
       "      <td>K00A</td>\n",
       "      <td>NaN</td>\n",
       "      <td>00A</td>\n",
       "      <td>https://www.penndot.pa.gov/TravelInPA/airports...</td>\n",
       "      <td>NaN</td>\n",
       "      <td>NaN</td>\n",
       "    </tr>\n",
       "    <tr>\n",
       "      <th>1</th>\n",
       "      <td>323361</td>\n",
       "      <td>00AA</td>\n",
       "      <td>small_airport</td>\n",
       "      <td>Aero B Ranch Airport</td>\n",
       "      <td>38.704022</td>\n",
       "      <td>-101.473911</td>\n",
       "      <td>3435.0</td>\n",
       "      <td>NaN</td>\n",
       "      <td>US</td>\n",
       "      <td>US-KS</td>\n",
       "      <td>Leoti</td>\n",
       "      <td>no</td>\n",
       "      <td>00AA</td>\n",
       "      <td>NaN</td>\n",
       "      <td>00AA</td>\n",
       "      <td>NaN</td>\n",
       "      <td>NaN</td>\n",
       "      <td>NaN</td>\n",
       "    </tr>\n",
       "    <tr>\n",
       "      <th>2</th>\n",
       "      <td>6524</td>\n",
       "      <td>00AK</td>\n",
       "      <td>small_airport</td>\n",
       "      <td>Lowell Field</td>\n",
       "      <td>59.947733</td>\n",
       "      <td>-151.692524</td>\n",
       "      <td>450.0</td>\n",
       "      <td>NaN</td>\n",
       "      <td>US</td>\n",
       "      <td>US-AK</td>\n",
       "      <td>Anchor Point</td>\n",
       "      <td>no</td>\n",
       "      <td>00AK</td>\n",
       "      <td>NaN</td>\n",
       "      <td>00AK</td>\n",
       "      <td>NaN</td>\n",
       "      <td>NaN</td>\n",
       "      <td>NaN</td>\n",
       "    </tr>\n",
       "    <tr>\n",
       "      <th>3</th>\n",
       "      <td>6525</td>\n",
       "      <td>00AL</td>\n",
       "      <td>small_airport</td>\n",
       "      <td>Epps Airpark</td>\n",
       "      <td>34.864799</td>\n",
       "      <td>-86.770302</td>\n",
       "      <td>820.0</td>\n",
       "      <td>NaN</td>\n",
       "      <td>US</td>\n",
       "      <td>US-AL</td>\n",
       "      <td>Harvest</td>\n",
       "      <td>no</td>\n",
       "      <td>00AL</td>\n",
       "      <td>NaN</td>\n",
       "      <td>00AL</td>\n",
       "      <td>NaN</td>\n",
       "      <td>NaN</td>\n",
       "      <td>NaN</td>\n",
       "    </tr>\n",
       "    <tr>\n",
       "      <th>4</th>\n",
       "      <td>506791</td>\n",
       "      <td>00AN</td>\n",
       "      <td>small_airport</td>\n",
       "      <td>Katmai Lodge Airport</td>\n",
       "      <td>59.093287</td>\n",
       "      <td>-156.456699</td>\n",
       "      <td>80.0</td>\n",
       "      <td>NaN</td>\n",
       "      <td>US</td>\n",
       "      <td>US-AK</td>\n",
       "      <td>King Salmon</td>\n",
       "      <td>no</td>\n",
       "      <td>00AN</td>\n",
       "      <td>NaN</td>\n",
       "      <td>00AN</td>\n",
       "      <td>NaN</td>\n",
       "      <td>NaN</td>\n",
       "      <td>NaN</td>\n",
       "    </tr>\n",
       "  </tbody>\n",
       "</table>\n",
       "</div>"
      ],
      "text/plain": [
       "       id ident           type                  name  latitude_deg  \\\n",
       "0    6523   00A       heliport     Total RF Heliport     40.070985   \n",
       "1  323361  00AA  small_airport  Aero B Ranch Airport     38.704022   \n",
       "2    6524  00AK  small_airport          Lowell Field     59.947733   \n",
       "3    6525  00AL  small_airport          Epps Airpark     34.864799   \n",
       "4  506791  00AN  small_airport  Katmai Lodge Airport     59.093287   \n",
       "\n",
       "   longitude_deg  elevation_ft continent iso_country iso_region  municipality  \\\n",
       "0     -74.933689          11.0       NaN          US      US-PA      Bensalem   \n",
       "1    -101.473911        3435.0       NaN          US      US-KS         Leoti   \n",
       "2    -151.692524         450.0       NaN          US      US-AK  Anchor Point   \n",
       "3     -86.770302         820.0       NaN          US      US-AL       Harvest   \n",
       "4    -156.456699          80.0       NaN          US      US-AK   King Salmon   \n",
       "\n",
       "  scheduled_service gps_code iata_code local_code  \\\n",
       "0                no     K00A       NaN        00A   \n",
       "1                no     00AA       NaN       00AA   \n",
       "2                no     00AK       NaN       00AK   \n",
       "3                no     00AL       NaN       00AL   \n",
       "4                no     00AN       NaN       00AN   \n",
       "\n",
       "                                           home_link wikipedia_link keywords  \n",
       "0  https://www.penndot.pa.gov/TravelInPA/airports...            NaN      NaN  \n",
       "1                                                NaN            NaN      NaN  \n",
       "2                                                NaN            NaN      NaN  \n",
       "3                                                NaN            NaN      NaN  \n",
       "4                                                NaN            NaN      NaN  "
      ]
     },
     "execution_count": 29,
     "metadata": {},
     "output_type": "execute_result"
    }
   ],
   "source": [
    "primeras_filas=airports.head(5)\n",
    "primeras_filas"
   ]
  },
  {
   "cell_type": "markdown",
   "id": "b3696af7",
   "metadata": {},
   "source": [
    "### Indica las intrucciones Pandas para los siguientes casos:"
   ]
  },
  {
   "cell_type": "markdown",
   "id": "1551893d",
   "metadata": {},
   "source": [
    "1. Número de filas del dataframe"
   ]
  },
  {
   "cell_type": "code",
   "execution_count": 33,
   "id": "91f85db8",
   "metadata": {},
   "outputs": [
    {
     "data": {
      "text/plain": [
       "76838"
      ]
     },
     "execution_count": 33,
     "metadata": {},
     "output_type": "execute_result"
    }
   ],
   "source": [
    "airports.shape[0]"
   ]
  },
  {
   "cell_type": "markdown",
   "id": "c8435785",
   "metadata": {},
   "source": [
    "2. Información del dataframe (columnas, tipos, valores no nulos cada columna)"
   ]
  },
  {
   "cell_type": "code",
   "execution_count": 34,
   "id": "3cc7e67d",
   "metadata": {},
   "outputs": [
    {
     "name": "stdout",
     "output_type": "stream",
     "text": [
      "<class 'pandas.core.frame.DataFrame'>\n",
      "RangeIndex: 76838 entries, 0 to 76837\n",
      "Data columns (total 18 columns):\n",
      " #   Column             Non-Null Count  Dtype  \n",
      "---  ------             --------------  -----  \n",
      " 0   id                 76838 non-null  int64  \n",
      " 1   ident              76838 non-null  object \n",
      " 2   type               76838 non-null  object \n",
      " 3   name               76838 non-null  object \n",
      " 4   latitude_deg       76838 non-null  float64\n",
      " 5   longitude_deg      76838 non-null  float64\n",
      " 6   elevation_ft       62470 non-null  float64\n",
      " 7   continent          39774 non-null  object \n",
      " 8   iso_country        76579 non-null  object \n",
      " 9   iso_region         76838 non-null  object \n",
      " 10  municipality       71910 non-null  object \n",
      " 11  scheduled_service  76838 non-null  object \n",
      " 12  gps_code           41629 non-null  object \n",
      " 13  iata_code          8902 non-null   object \n",
      " 14  local_code         32846 non-null  object \n",
      " 15  home_link          3718 non-null   object \n",
      " 16  wikipedia_link     11077 non-null  object \n",
      " 17  keywords           17370 non-null  object \n",
      "dtypes: float64(3), int64(1), object(14)\n",
      "memory usage: 10.6+ MB\n"
     ]
    }
   ],
   "source": [
    "airports.info()"
   ]
  },
  {
   "cell_type": "markdown",
   "id": "e2d8059b",
   "metadata": {},
   "source": [
    "3. Obtener la columna ```type``` como una serie"
   ]
  },
  {
   "cell_type": "code",
   "execution_count": 35,
   "id": "de7de2a1",
   "metadata": {},
   "outputs": [
    {
     "data": {
      "text/plain": [
       "0             heliport\n",
       "1        small_airport\n",
       "2        small_airport\n",
       "3        small_airport\n",
       "4        small_airport\n",
       "             ...      \n",
       "76833         heliport\n",
       "76834    small_airport\n",
       "76835    small_airport\n",
       "76836           closed\n",
       "76837    small_airport\n",
       "Name: type, Length: 76838, dtype: object"
      ]
     },
     "execution_count": 35,
     "metadata": {},
     "output_type": "execute_result"
    }
   ],
   "source": [
    "airports['type']"
   ]
  },
  {
   "cell_type": "markdown",
   "id": "3c3ad63e",
   "metadata": {},
   "source": [
    "4. Obtener los nombres de las columnas en forma de lista"
   ]
  },
  {
   "cell_type": "code",
   "execution_count": 36,
   "id": "41121ce8",
   "metadata": {},
   "outputs": [
    {
     "data": {
      "text/plain": [
       "Index(['id', 'ident', 'type', 'name', 'latitude_deg', 'longitude_deg',\n",
       "       'elevation_ft', 'continent', 'iso_country', 'iso_region',\n",
       "       'municipality', 'scheduled_service', 'gps_code', 'iata_code',\n",
       "       'local_code', 'home_link', 'wikipedia_link', 'keywords'],\n",
       "      dtype='object')"
      ]
     },
     "execution_count": 36,
     "metadata": {},
     "output_type": "execute_result"
    }
   ],
   "source": [
    "airports.columns"
   ]
  },
  {
   "cell_type": "markdown",
   "id": "65ea11b2",
   "metadata": {},
   "source": [
    "5. Seleccionar las filas de los aeropuertos de tipo \"heliport\""
   ]
  },
  {
   "cell_type": "code",
   "execution_count": 37,
   "id": "ea644449",
   "metadata": {},
   "outputs": [
    {
     "data": {
      "text/html": [
       "<div>\n",
       "<style scoped>\n",
       "    .dataframe tbody tr th:only-of-type {\n",
       "        vertical-align: middle;\n",
       "    }\n",
       "\n",
       "    .dataframe tbody tr th {\n",
       "        vertical-align: top;\n",
       "    }\n",
       "\n",
       "    .dataframe thead th {\n",
       "        text-align: right;\n",
       "    }\n",
       "</style>\n",
       "<table border=\"1\" class=\"dataframe\">\n",
       "  <thead>\n",
       "    <tr style=\"text-align: right;\">\n",
       "      <th></th>\n",
       "      <th>id</th>\n",
       "      <th>ident</th>\n",
       "      <th>type</th>\n",
       "      <th>name</th>\n",
       "      <th>latitude_deg</th>\n",
       "      <th>longitude_deg</th>\n",
       "      <th>elevation_ft</th>\n",
       "      <th>continent</th>\n",
       "      <th>iso_country</th>\n",
       "      <th>iso_region</th>\n",
       "      <th>municipality</th>\n",
       "      <th>scheduled_service</th>\n",
       "      <th>gps_code</th>\n",
       "      <th>iata_code</th>\n",
       "      <th>local_code</th>\n",
       "      <th>home_link</th>\n",
       "      <th>wikipedia_link</th>\n",
       "      <th>keywords</th>\n",
       "    </tr>\n",
       "  </thead>\n",
       "  <tbody>\n",
       "    <tr>\n",
       "      <th>0</th>\n",
       "      <td>6523</td>\n",
       "      <td>00A</td>\n",
       "      <td>heliport</td>\n",
       "      <td>Total RF Heliport</td>\n",
       "      <td>40.070985</td>\n",
       "      <td>-74.933689</td>\n",
       "      <td>11.0</td>\n",
       "      <td>NaN</td>\n",
       "      <td>US</td>\n",
       "      <td>US-PA</td>\n",
       "      <td>Bensalem</td>\n",
       "      <td>no</td>\n",
       "      <td>K00A</td>\n",
       "      <td>NaN</td>\n",
       "      <td>00A</td>\n",
       "      <td>https://www.penndot.pa.gov/TravelInPA/airports...</td>\n",
       "      <td>NaN</td>\n",
       "      <td>NaN</td>\n",
       "    </tr>\n",
       "    <tr>\n",
       "      <th>10</th>\n",
       "      <td>322658</td>\n",
       "      <td>00CN</td>\n",
       "      <td>heliport</td>\n",
       "      <td>Kitchen Creek Helibase Heliport</td>\n",
       "      <td>32.727374</td>\n",
       "      <td>-116.459742</td>\n",
       "      <td>3350.0</td>\n",
       "      <td>NaN</td>\n",
       "      <td>US</td>\n",
       "      <td>US-CA</td>\n",
       "      <td>Pine Valley</td>\n",
       "      <td>no</td>\n",
       "      <td>00CN</td>\n",
       "      <td>NaN</td>\n",
       "      <td>00CN</td>\n",
       "      <td>NaN</td>\n",
       "      <td>NaN</td>\n",
       "      <td>NaN</td>\n",
       "    </tr>\n",
       "    <tr>\n",
       "      <th>16</th>\n",
       "      <td>6535</td>\n",
       "      <td>00GE</td>\n",
       "      <td>heliport</td>\n",
       "      <td>Caffrey Heliport</td>\n",
       "      <td>33.887982</td>\n",
       "      <td>-84.736983</td>\n",
       "      <td>957.0</td>\n",
       "      <td>NaN</td>\n",
       "      <td>US</td>\n",
       "      <td>US-GA</td>\n",
       "      <td>Hiram</td>\n",
       "      <td>no</td>\n",
       "      <td>00GE</td>\n",
       "      <td>NaN</td>\n",
       "      <td>00GE</td>\n",
       "      <td>NaN</td>\n",
       "      <td>NaN</td>\n",
       "      <td>NaN</td>\n",
       "    </tr>\n",
       "    <tr>\n",
       "      <th>17</th>\n",
       "      <td>6536</td>\n",
       "      <td>00HI</td>\n",
       "      <td>heliport</td>\n",
       "      <td>Kaupulehu Heliport</td>\n",
       "      <td>19.832881</td>\n",
       "      <td>-155.978347</td>\n",
       "      <td>43.0</td>\n",
       "      <td>OC</td>\n",
       "      <td>US</td>\n",
       "      <td>US-HI</td>\n",
       "      <td>Kailua-Kona</td>\n",
       "      <td>no</td>\n",
       "      <td>00HI</td>\n",
       "      <td>NaN</td>\n",
       "      <td>00HI</td>\n",
       "      <td>NaN</td>\n",
       "      <td>NaN</td>\n",
       "      <td>NaN</td>\n",
       "    </tr>\n",
       "    <tr>\n",
       "      <th>22</th>\n",
       "      <td>6540</td>\n",
       "      <td>00IN</td>\n",
       "      <td>heliport</td>\n",
       "      <td>St Mary Medical Center Heliport</td>\n",
       "      <td>41.511398</td>\n",
       "      <td>-87.260597</td>\n",
       "      <td>634.0</td>\n",
       "      <td>NaN</td>\n",
       "      <td>US</td>\n",
       "      <td>US-IN</td>\n",
       "      <td>Hobart</td>\n",
       "      <td>no</td>\n",
       "      <td>00IN</td>\n",
       "      <td>NaN</td>\n",
       "      <td>00IN</td>\n",
       "      <td>NaN</td>\n",
       "      <td>NaN</td>\n",
       "      <td>NaN</td>\n",
       "    </tr>\n",
       "    <tr>\n",
       "      <th>...</th>\n",
       "      <td>...</td>\n",
       "      <td>...</td>\n",
       "      <td>...</td>\n",
       "      <td>...</td>\n",
       "      <td>...</td>\n",
       "      <td>...</td>\n",
       "      <td>...</td>\n",
       "      <td>...</td>\n",
       "      <td>...</td>\n",
       "      <td>...</td>\n",
       "      <td>...</td>\n",
       "      <td>...</td>\n",
       "      <td>...</td>\n",
       "      <td>...</td>\n",
       "      <td>...</td>\n",
       "      <td>...</td>\n",
       "      <td>...</td>\n",
       "      <td>...</td>\n",
       "    </tr>\n",
       "    <tr>\n",
       "      <th>76775</th>\n",
       "      <td>351677</td>\n",
       "      <td>ZW-0055</td>\n",
       "      <td>heliport</td>\n",
       "      <td>Elephant Hills Heliport</td>\n",
       "      <td>-17.911990</td>\n",
       "      <td>25.828020</td>\n",
       "      <td>3054.0</td>\n",
       "      <td>AF</td>\n",
       "      <td>ZW</td>\n",
       "      <td>ZW-MN</td>\n",
       "      <td>Victoria Falls</td>\n",
       "      <td>no</td>\n",
       "      <td>NaN</td>\n",
       "      <td>NaN</td>\n",
       "      <td>NaN</td>\n",
       "      <td>NaN</td>\n",
       "      <td>NaN</td>\n",
       "      <td>NaN</td>\n",
       "    </tr>\n",
       "    <tr>\n",
       "      <th>76776</th>\n",
       "      <td>351678</td>\n",
       "      <td>ZW-0056</td>\n",
       "      <td>heliport</td>\n",
       "      <td>Chikopokopo Heliport</td>\n",
       "      <td>-17.964380</td>\n",
       "      <td>25.809930</td>\n",
       "      <td>3012.0</td>\n",
       "      <td>AF</td>\n",
       "      <td>ZW</td>\n",
       "      <td>ZW-MN</td>\n",
       "      <td>Masuwe</td>\n",
       "      <td>no</td>\n",
       "      <td>NaN</td>\n",
       "      <td>NaN</td>\n",
       "      <td>NaN</td>\n",
       "      <td>NaN</td>\n",
       "      <td>NaN</td>\n",
       "      <td>NaN</td>\n",
       "    </tr>\n",
       "    <tr>\n",
       "      <th>76777</th>\n",
       "      <td>351679</td>\n",
       "      <td>ZW-0057</td>\n",
       "      <td>heliport</td>\n",
       "      <td>Masuwe Heliport</td>\n",
       "      <td>-17.965880</td>\n",
       "      <td>25.810550</td>\n",
       "      <td>3005.0</td>\n",
       "      <td>AF</td>\n",
       "      <td>ZW</td>\n",
       "      <td>ZW-MN</td>\n",
       "      <td>Masuwe</td>\n",
       "      <td>no</td>\n",
       "      <td>NaN</td>\n",
       "      <td>NaN</td>\n",
       "      <td>NaN</td>\n",
       "      <td>NaN</td>\n",
       "      <td>NaN</td>\n",
       "      <td>NaN</td>\n",
       "    </tr>\n",
       "    <tr>\n",
       "      <th>76779</th>\n",
       "      <td>351689</td>\n",
       "      <td>ZW-0059</td>\n",
       "      <td>heliport</td>\n",
       "      <td>Big Four Heliport</td>\n",
       "      <td>-17.913540</td>\n",
       "      <td>25.832350</td>\n",
       "      <td>2986.0</td>\n",
       "      <td>AF</td>\n",
       "      <td>ZW</td>\n",
       "      <td>ZW-MN</td>\n",
       "      <td>Victoria Falls</td>\n",
       "      <td>no</td>\n",
       "      <td>NaN</td>\n",
       "      <td>NaN</td>\n",
       "      <td>NaN</td>\n",
       "      <td>NaN</td>\n",
       "      <td>NaN</td>\n",
       "      <td>NaN</td>\n",
       "    </tr>\n",
       "    <tr>\n",
       "      <th>76833</th>\n",
       "      <td>46378</td>\n",
       "      <td>ZZ-0001</td>\n",
       "      <td>heliport</td>\n",
       "      <td>Sealand Helipad</td>\n",
       "      <td>51.894444</td>\n",
       "      <td>1.482500</td>\n",
       "      <td>40.0</td>\n",
       "      <td>EU</td>\n",
       "      <td>GB</td>\n",
       "      <td>GB-ENG</td>\n",
       "      <td>Sealand</td>\n",
       "      <td>no</td>\n",
       "      <td>NaN</td>\n",
       "      <td>NaN</td>\n",
       "      <td>NaN</td>\n",
       "      <td>http://www.sealandgov.org/</td>\n",
       "      <td>https://en.wikipedia.org/wiki/Principality_of_...</td>\n",
       "      <td>Roughs Tower Helipad</td>\n",
       "    </tr>\n",
       "  </tbody>\n",
       "</table>\n",
       "<p>19603 rows × 18 columns</p>\n",
       "</div>"
      ],
      "text/plain": [
       "           id    ident      type                             name  \\\n",
       "0        6523      00A  heliport                Total RF Heliport   \n",
       "10     322658     00CN  heliport  Kitchen Creek Helibase Heliport   \n",
       "16       6535     00GE  heliport                 Caffrey Heliport   \n",
       "17       6536     00HI  heliport               Kaupulehu Heliport   \n",
       "22       6540     00IN  heliport  St Mary Medical Center Heliport   \n",
       "...       ...      ...       ...                              ...   \n",
       "76775  351677  ZW-0055  heliport          Elephant Hills Heliport   \n",
       "76776  351678  ZW-0056  heliport             Chikopokopo Heliport   \n",
       "76777  351679  ZW-0057  heliport                  Masuwe Heliport   \n",
       "76779  351689  ZW-0059  heliport                Big Four Heliport   \n",
       "76833   46378  ZZ-0001  heliport                  Sealand Helipad   \n",
       "\n",
       "       latitude_deg  longitude_deg  elevation_ft continent iso_country  \\\n",
       "0         40.070985     -74.933689          11.0       NaN          US   \n",
       "10        32.727374    -116.459742        3350.0       NaN          US   \n",
       "16        33.887982     -84.736983         957.0       NaN          US   \n",
       "17        19.832881    -155.978347          43.0        OC          US   \n",
       "22        41.511398     -87.260597         634.0       NaN          US   \n",
       "...             ...            ...           ...       ...         ...   \n",
       "76775    -17.911990      25.828020        3054.0        AF          ZW   \n",
       "76776    -17.964380      25.809930        3012.0        AF          ZW   \n",
       "76777    -17.965880      25.810550        3005.0        AF          ZW   \n",
       "76779    -17.913540      25.832350        2986.0        AF          ZW   \n",
       "76833     51.894444       1.482500          40.0        EU          GB   \n",
       "\n",
       "      iso_region    municipality scheduled_service gps_code iata_code  \\\n",
       "0          US-PA        Bensalem                no     K00A       NaN   \n",
       "10         US-CA     Pine Valley                no     00CN       NaN   \n",
       "16         US-GA           Hiram                no     00GE       NaN   \n",
       "17         US-HI     Kailua-Kona                no     00HI       NaN   \n",
       "22         US-IN          Hobart                no     00IN       NaN   \n",
       "...          ...             ...               ...      ...       ...   \n",
       "76775      ZW-MN  Victoria Falls                no      NaN       NaN   \n",
       "76776      ZW-MN          Masuwe                no      NaN       NaN   \n",
       "76777      ZW-MN          Masuwe                no      NaN       NaN   \n",
       "76779      ZW-MN  Victoria Falls                no      NaN       NaN   \n",
       "76833     GB-ENG         Sealand                no      NaN       NaN   \n",
       "\n",
       "      local_code                                          home_link  \\\n",
       "0            00A  https://www.penndot.pa.gov/TravelInPA/airports...   \n",
       "10          00CN                                                NaN   \n",
       "16          00GE                                                NaN   \n",
       "17          00HI                                                NaN   \n",
       "22          00IN                                                NaN   \n",
       "...          ...                                                ...   \n",
       "76775        NaN                                                NaN   \n",
       "76776        NaN                                                NaN   \n",
       "76777        NaN                                                NaN   \n",
       "76779        NaN                                                NaN   \n",
       "76833        NaN                         http://www.sealandgov.org/   \n",
       "\n",
       "                                          wikipedia_link              keywords  \n",
       "0                                                    NaN                   NaN  \n",
       "10                                                   NaN                   NaN  \n",
       "16                                                   NaN                   NaN  \n",
       "17                                                   NaN                   NaN  \n",
       "22                                                   NaN                   NaN  \n",
       "...                                                  ...                   ...  \n",
       "76775                                                NaN                   NaN  \n",
       "76776                                                NaN                   NaN  \n",
       "76777                                                NaN                   NaN  \n",
       "76779                                                NaN                   NaN  \n",
       "76833  https://en.wikipedia.org/wiki/Principality_of_...  Roughs Tower Helipad  \n",
       "\n",
       "[19603 rows x 18 columns]"
      ]
     },
     "execution_count": 37,
     "metadata": {},
     "output_type": "execute_result"
    }
   ],
   "source": [
    "filas_heliport=airports[airports.type==\"heliport\"]\n",
    "filas_heliport"
   ]
  },
  {
   "cell_type": "markdown",
   "id": "b3c58fc5",
   "metadata": {},
   "source": [
    "6. La altura del aeropuerto más elevado (según el campo ```elevation_ft```)"
   ]
  },
  {
   "cell_type": "code",
   "execution_count": 49,
   "id": "6e651217",
   "metadata": {},
   "outputs": [
    {
     "data": {
      "text/plain": [
       "elevation_ft    17372.0\n",
       "dtype: float64"
      ]
     },
     "execution_count": 49,
     "metadata": {},
     "output_type": "execute_result"
    }
   ],
   "source": [
    "altura=airports[[\"elevation_ft\"]].max()\n",
    "altura\n",
    "\n"
   ]
  },
  {
   "cell_type": "markdown",
   "id": "def49ad6",
   "metadata": {},
   "source": [
    "7. La altura media de los aeropuertos de Gran Bretaña (iso-code: ```GB```)"
   ]
  },
  {
   "cell_type": "code",
   "execution_count": 40,
   "id": "22d50426",
   "metadata": {},
   "outputs": [
    {
     "name": "stdout",
     "output_type": "stream",
     "text": [
      "<class 'pandas.core.frame.DataFrame'>\n",
      "RangeIndex: 76838 entries, 0 to 76837\n",
      "Data columns (total 18 columns):\n",
      " #   Column             Non-Null Count  Dtype  \n",
      "---  ------             --------------  -----  \n",
      " 0   id                 76838 non-null  int64  \n",
      " 1   ident              76838 non-null  object \n",
      " 2   type               76838 non-null  object \n",
      " 3   name               76838 non-null  object \n",
      " 4   latitude_deg       76838 non-null  float64\n",
      " 5   longitude_deg      76838 non-null  float64\n",
      " 6   elevation_ft       62470 non-null  float64\n",
      " 7   continent          39774 non-null  object \n",
      " 8   iso_country        76579 non-null  object \n",
      " 9   iso_region         76838 non-null  object \n",
      " 10  municipality       71910 non-null  object \n",
      " 11  scheduled_service  76838 non-null  object \n",
      " 12  gps_code           41629 non-null  object \n",
      " 13  iata_code          8902 non-null   object \n",
      " 14  local_code         32846 non-null  object \n",
      " 15  home_link          3718 non-null   object \n",
      " 16  wikipedia_link     11077 non-null  object \n",
      " 17  keywords           17370 non-null  object \n",
      "dtypes: float64(3), int64(1), object(14)\n",
      "memory usage: 10.6+ MB\n"
     ]
    }
   ],
   "source": [
    "airports.info()"
   ]
  },
  {
   "cell_type": "code",
   "execution_count": 53,
   "id": "c450f7b1",
   "metadata": {},
   "outputs": [
    {
     "data": {
      "text/plain": [
       "234.44550669216062"
      ]
     },
     "execution_count": 53,
     "metadata": {},
     "output_type": "execute_result"
    }
   ],
   "source": [
    "gb = airports[airports['iso_country'] == 'GB']\n",
    "altura_media_gb = gb['elevation_ft'].mean()\n",
    "altura_media_gb"
   ]
  },
  {
   "cell_type": "markdown",
   "id": "b1bea9fc",
   "metadata": {},
   "source": [
    "8. Filas que contenga los ```small_airports``` que están a una altura menor de 100 pies"
   ]
  },
  {
   "cell_type": "code",
   "execution_count": 56,
   "id": "4f4e842f",
   "metadata": {},
   "outputs": [
    {
     "data": {
      "text/html": [
       "<div>\n",
       "<style scoped>\n",
       "    .dataframe tbody tr th:only-of-type {\n",
       "        vertical-align: middle;\n",
       "    }\n",
       "\n",
       "    .dataframe tbody tr th {\n",
       "        vertical-align: top;\n",
       "    }\n",
       "\n",
       "    .dataframe thead th {\n",
       "        text-align: right;\n",
       "    }\n",
       "</style>\n",
       "<table border=\"1\" class=\"dataframe\">\n",
       "  <thead>\n",
       "    <tr style=\"text-align: right;\">\n",
       "      <th></th>\n",
       "      <th>id</th>\n",
       "      <th>ident</th>\n",
       "      <th>type</th>\n",
       "      <th>name</th>\n",
       "      <th>latitude_deg</th>\n",
       "      <th>longitude_deg</th>\n",
       "      <th>elevation_ft</th>\n",
       "      <th>continent</th>\n",
       "      <th>iso_country</th>\n",
       "      <th>iso_region</th>\n",
       "      <th>municipality</th>\n",
       "      <th>scheduled_service</th>\n",
       "      <th>gps_code</th>\n",
       "      <th>iata_code</th>\n",
       "      <th>local_code</th>\n",
       "      <th>home_link</th>\n",
       "      <th>wikipedia_link</th>\n",
       "      <th>keywords</th>\n",
       "    </tr>\n",
       "  </thead>\n",
       "  <tbody>\n",
       "    <tr>\n",
       "      <th>4</th>\n",
       "      <td>506791</td>\n",
       "      <td>00AN</td>\n",
       "      <td>small_airport</td>\n",
       "      <td>Katmai Lodge Airport</td>\n",
       "      <td>59.093287</td>\n",
       "      <td>-156.456699</td>\n",
       "      <td>80.0</td>\n",
       "      <td>NaN</td>\n",
       "      <td>US</td>\n",
       "      <td>US-AK</td>\n",
       "      <td>King Salmon</td>\n",
       "      <td>no</td>\n",
       "      <td>00AN</td>\n",
       "      <td>NaN</td>\n",
       "      <td>00AN</td>\n",
       "      <td>NaN</td>\n",
       "      <td>NaN</td>\n",
       "      <td>NaN</td>\n",
       "    </tr>\n",
       "    <tr>\n",
       "      <th>9</th>\n",
       "      <td>324424</td>\n",
       "      <td>00CL</td>\n",
       "      <td>small_airport</td>\n",
       "      <td>Williams Ag Airport</td>\n",
       "      <td>39.427188</td>\n",
       "      <td>-121.763427</td>\n",
       "      <td>87.0</td>\n",
       "      <td>NaN</td>\n",
       "      <td>US</td>\n",
       "      <td>US-CA</td>\n",
       "      <td>Biggs</td>\n",
       "      <td>no</td>\n",
       "      <td>00CL</td>\n",
       "      <td>NaN</td>\n",
       "      <td>00CL</td>\n",
       "      <td>NaN</td>\n",
       "      <td>NaN</td>\n",
       "      <td>NaN</td>\n",
       "    </tr>\n",
       "    <tr>\n",
       "      <th>12</th>\n",
       "      <td>6531</td>\n",
       "      <td>00FA</td>\n",
       "      <td>small_airport</td>\n",
       "      <td>Grass Patch Airport</td>\n",
       "      <td>28.645500</td>\n",
       "      <td>-82.219002</td>\n",
       "      <td>53.0</td>\n",
       "      <td>NaN</td>\n",
       "      <td>US</td>\n",
       "      <td>US-FL</td>\n",
       "      <td>Bushnell</td>\n",
       "      <td>no</td>\n",
       "      <td>00FA</td>\n",
       "      <td>NaN</td>\n",
       "      <td>00FA</td>\n",
       "      <td>NaN</td>\n",
       "      <td>NaN</td>\n",
       "      <td>NaN</td>\n",
       "    </tr>\n",
       "    <tr>\n",
       "      <th>14</th>\n",
       "      <td>6533</td>\n",
       "      <td>00FL</td>\n",
       "      <td>small_airport</td>\n",
       "      <td>River Oak Airport</td>\n",
       "      <td>27.230900</td>\n",
       "      <td>-80.969200</td>\n",
       "      <td>35.0</td>\n",
       "      <td>NaN</td>\n",
       "      <td>US</td>\n",
       "      <td>US-FL</td>\n",
       "      <td>Okeechobee</td>\n",
       "      <td>no</td>\n",
       "      <td>00FL</td>\n",
       "      <td>NaN</td>\n",
       "      <td>00FL</td>\n",
       "      <td>NaN</td>\n",
       "      <td>NaN</td>\n",
       "      <td>NaN</td>\n",
       "    </tr>\n",
       "    <tr>\n",
       "      <th>28</th>\n",
       "      <td>6545</td>\n",
       "      <td>00LS</td>\n",
       "      <td>small_airport</td>\n",
       "      <td>Lejeune Airport</td>\n",
       "      <td>30.136299</td>\n",
       "      <td>-92.429398</td>\n",
       "      <td>12.0</td>\n",
       "      <td>NaN</td>\n",
       "      <td>US</td>\n",
       "      <td>US-LA</td>\n",
       "      <td>Crowley</td>\n",
       "      <td>no</td>\n",
       "      <td>00LS</td>\n",
       "      <td>NaN</td>\n",
       "      <td>00LS</td>\n",
       "      <td>NaN</td>\n",
       "      <td>NaN</td>\n",
       "      <td>NaN</td>\n",
       "    </tr>\n",
       "    <tr>\n",
       "      <th>...</th>\n",
       "      <td>...</td>\n",
       "      <td>...</td>\n",
       "      <td>...</td>\n",
       "      <td>...</td>\n",
       "      <td>...</td>\n",
       "      <td>...</td>\n",
       "      <td>...</td>\n",
       "      <td>...</td>\n",
       "      <td>...</td>\n",
       "      <td>...</td>\n",
       "      <td>...</td>\n",
       "      <td>...</td>\n",
       "      <td>...</td>\n",
       "      <td>...</td>\n",
       "      <td>...</td>\n",
       "      <td>...</td>\n",
       "      <td>...</td>\n",
       "      <td>...</td>\n",
       "    </tr>\n",
       "    <tr>\n",
       "      <th>76504</th>\n",
       "      <td>351135</td>\n",
       "      <td>ZGYJ</td>\n",
       "      <td>small_airport</td>\n",
       "      <td>Yangjiang Heshan Airport</td>\n",
       "      <td>21.961895</td>\n",
       "      <td>112.102408</td>\n",
       "      <td>33.0</td>\n",
       "      <td>AS</td>\n",
       "      <td>CN</td>\n",
       "      <td>CN-44</td>\n",
       "      <td>Yangjiang</td>\n",
       "      <td>no</td>\n",
       "      <td>ZGYJ</td>\n",
       "      <td>NaN</td>\n",
       "      <td>NaN</td>\n",
       "      <td>NaN</td>\n",
       "      <td>NaN</td>\n",
       "      <td>NaN</td>\n",
       "    </tr>\n",
       "    <tr>\n",
       "      <th>76672</th>\n",
       "      <td>32649</td>\n",
       "      <td>ZSWU</td>\n",
       "      <td>small_airport</td>\n",
       "      <td>Wuhu Wanli Airport / Wuhu Air Base</td>\n",
       "      <td>31.390600</td>\n",
       "      <td>118.408997</td>\n",
       "      <td>34.0</td>\n",
       "      <td>AS</td>\n",
       "      <td>CN</td>\n",
       "      <td>CN-34</td>\n",
       "      <td>Wuhu</td>\n",
       "      <td>no</td>\n",
       "      <td>ZSWU</td>\n",
       "      <td>WHU</td>\n",
       "      <td>NaN</td>\n",
       "      <td>NaN</td>\n",
       "      <td>https://en.wikipedia.org/wiki/Wuhu_Wanli_Airport</td>\n",
       "      <td>NaN</td>\n",
       "    </tr>\n",
       "    <tr>\n",
       "      <th>76680</th>\n",
       "      <td>27227</td>\n",
       "      <td>ZSYT</td>\n",
       "      <td>small_airport</td>\n",
       "      <td>Yantai Laishan Airport</td>\n",
       "      <td>37.396825</td>\n",
       "      <td>121.369571</td>\n",
       "      <td>59.0</td>\n",
       "      <td>AS</td>\n",
       "      <td>CN</td>\n",
       "      <td>CN-37</td>\n",
       "      <td>Yantai</td>\n",
       "      <td>no</td>\n",
       "      <td>NaN</td>\n",
       "      <td>NaN</td>\n",
       "      <td>NaN</td>\n",
       "      <td>NaN</td>\n",
       "      <td>https://en.wikipedia.org/wiki/Yantai_Laishan_A...</td>\n",
       "      <td>YNT, ZSYT</td>\n",
       "    </tr>\n",
       "    <tr>\n",
       "      <th>76820</th>\n",
       "      <td>335272</td>\n",
       "      <td>ZYLY</td>\n",
       "      <td>small_airport</td>\n",
       "      <td>Liaoyang Air Base</td>\n",
       "      <td>41.277976</td>\n",
       "      <td>123.078729</td>\n",
       "      <td>57.0</td>\n",
       "      <td>AS</td>\n",
       "      <td>CN</td>\n",
       "      <td>CN-21</td>\n",
       "      <td>Liaoyang</td>\n",
       "      <td>no</td>\n",
       "      <td>ZYLY</td>\n",
       "      <td>NaN</td>\n",
       "      <td>NaN</td>\n",
       "      <td>NaN</td>\n",
       "      <td>NaN</td>\n",
       "      <td>NaN</td>\n",
       "    </tr>\n",
       "    <tr>\n",
       "      <th>76834</th>\n",
       "      <td>307326</td>\n",
       "      <td>ZZ-0002</td>\n",
       "      <td>small_airport</td>\n",
       "      <td>Glorioso Islands Airstrip</td>\n",
       "      <td>-11.584278</td>\n",
       "      <td>47.296389</td>\n",
       "      <td>11.0</td>\n",
       "      <td>AF</td>\n",
       "      <td>TF</td>\n",
       "      <td>TF-U-A</td>\n",
       "      <td>Grande Glorieuse</td>\n",
       "      <td>no</td>\n",
       "      <td>NaN</td>\n",
       "      <td>NaN</td>\n",
       "      <td>NaN</td>\n",
       "      <td>NaN</td>\n",
       "      <td>NaN</td>\n",
       "      <td>NaN</td>\n",
       "    </tr>\n",
       "  </tbody>\n",
       "</table>\n",
       "<p>4543 rows × 18 columns</p>\n",
       "</div>"
      ],
      "text/plain": [
       "           id    ident           type                                name  \\\n",
       "4      506791     00AN  small_airport                Katmai Lodge Airport   \n",
       "9      324424     00CL  small_airport                 Williams Ag Airport   \n",
       "12       6531     00FA  small_airport                 Grass Patch Airport   \n",
       "14       6533     00FL  small_airport                   River Oak Airport   \n",
       "28       6545     00LS  small_airport                     Lejeune Airport   \n",
       "...       ...      ...            ...                                 ...   \n",
       "76504  351135     ZGYJ  small_airport            Yangjiang Heshan Airport   \n",
       "76672   32649     ZSWU  small_airport  Wuhu Wanli Airport / Wuhu Air Base   \n",
       "76680   27227     ZSYT  small_airport              Yantai Laishan Airport   \n",
       "76820  335272     ZYLY  small_airport                   Liaoyang Air Base   \n",
       "76834  307326  ZZ-0002  small_airport           Glorioso Islands Airstrip   \n",
       "\n",
       "       latitude_deg  longitude_deg  elevation_ft continent iso_country  \\\n",
       "4         59.093287    -156.456699          80.0       NaN          US   \n",
       "9         39.427188    -121.763427          87.0       NaN          US   \n",
       "12        28.645500     -82.219002          53.0       NaN          US   \n",
       "14        27.230900     -80.969200          35.0       NaN          US   \n",
       "28        30.136299     -92.429398          12.0       NaN          US   \n",
       "...             ...            ...           ...       ...         ...   \n",
       "76504     21.961895     112.102408          33.0        AS          CN   \n",
       "76672     31.390600     118.408997          34.0        AS          CN   \n",
       "76680     37.396825     121.369571          59.0        AS          CN   \n",
       "76820     41.277976     123.078729          57.0        AS          CN   \n",
       "76834    -11.584278      47.296389          11.0        AF          TF   \n",
       "\n",
       "      iso_region      municipality scheduled_service gps_code iata_code  \\\n",
       "4          US-AK       King Salmon                no     00AN       NaN   \n",
       "9          US-CA             Biggs                no     00CL       NaN   \n",
       "12         US-FL          Bushnell                no     00FA       NaN   \n",
       "14         US-FL        Okeechobee                no     00FL       NaN   \n",
       "28         US-LA           Crowley                no     00LS       NaN   \n",
       "...          ...               ...               ...      ...       ...   \n",
       "76504      CN-44         Yangjiang                no     ZGYJ       NaN   \n",
       "76672      CN-34              Wuhu                no     ZSWU       WHU   \n",
       "76680      CN-37            Yantai                no      NaN       NaN   \n",
       "76820      CN-21          Liaoyang                no     ZYLY       NaN   \n",
       "76834     TF-U-A  Grande Glorieuse                no      NaN       NaN   \n",
       "\n",
       "      local_code home_link                                     wikipedia_link  \\\n",
       "4           00AN       NaN                                                NaN   \n",
       "9           00CL       NaN                                                NaN   \n",
       "12          00FA       NaN                                                NaN   \n",
       "14          00FL       NaN                                                NaN   \n",
       "28          00LS       NaN                                                NaN   \n",
       "...          ...       ...                                                ...   \n",
       "76504        NaN       NaN                                                NaN   \n",
       "76672        NaN       NaN   https://en.wikipedia.org/wiki/Wuhu_Wanli_Airport   \n",
       "76680        NaN       NaN  https://en.wikipedia.org/wiki/Yantai_Laishan_A...   \n",
       "76820        NaN       NaN                                                NaN   \n",
       "76834        NaN       NaN                                                NaN   \n",
       "\n",
       "        keywords  \n",
       "4            NaN  \n",
       "9            NaN  \n",
       "12           NaN  \n",
       "14           NaN  \n",
       "28           NaN  \n",
       "...          ...  \n",
       "76504        NaN  \n",
       "76672        NaN  \n",
       "76680  YNT, ZSYT  \n",
       "76820        NaN  \n",
       "76834        NaN  \n",
       "\n",
       "[4543 rows x 18 columns]"
      ]
     },
     "execution_count": 56,
     "metadata": {},
     "output_type": "execute_result"
    }
   ],
   "source": [
    "\n",
    "small=airports[airports.type==\"small_airport\"]\n",
    "\n",
    "under100=small[small['elevation_ft'] < 100]\n",
    "under100\n"
   ]
  },
  {
   "cell_type": "markdown",
   "id": "a9927a35",
   "metadata": {},
   "source": [
    "9. La mediana de altura de los aeropuertos agrupados por tipo"
   ]
  },
  {
   "cell_type": "code",
   "execution_count": 58,
   "id": "b3c2943f",
   "metadata": {},
   "outputs": [
    {
     "data": {
      "text/plain": [
       "type\n",
       "balloonport       637.0\n",
       "closed            705.0\n",
       "heliport          600.0\n",
       "large_airport     168.0\n",
       "medium_airport    390.0\n",
       "seaplane_base     580.0\n",
       "small_airport     843.0\n",
       "Name: elevation_ft, dtype: float64"
      ]
     },
     "execution_count": 58,
     "metadata": {},
     "output_type": "execute_result"
    }
   ],
   "source": [
    "agrupacion = airports.groupby([\"type\"])[\"elevation_ft\"].median()\n",
    "agrupacion"
   ]
  },
  {
   "cell_type": "markdown",
   "id": "161de207",
   "metadata": {},
   "source": [
    "10. La media de la altura de los aeropuertos agrupados por tipo y por continente"
   ]
  },
  {
   "cell_type": "code",
   "execution_count": 60,
   "id": "ce8b91ba",
   "metadata": {},
   "outputs": [
    {
     "data": {
      "text/plain": [
       "type            continent\n",
       "balloonport     AS           1084.833333\n",
       "                EU            581.666667\n",
       "                SA             49.000000\n",
       "closed          AF           1910.222222\n",
       "                AN              4.000000\n",
       "                AS            993.553792\n",
       "                EU            544.912449\n",
       "                OC            952.159236\n",
       "                SA           1342.143603\n",
       "heliport        AF           1548.310345\n",
       "                AN             51.000000\n",
       "                AS           1122.778858\n",
       "                EU            882.730705\n",
       "                OC            656.878719\n",
       "                SA           1571.015038\n",
       "large_airport   AF           1297.812500\n",
       "                AS            719.769231\n",
       "                EU            395.551724\n",
       "                OC             88.437500\n",
       "                SA           1549.428571\n",
       "medium_airport  AF           1750.939394\n",
       "                AN           6442.400000\n",
       "                AS           1200.048738\n",
       "                EU            497.383760\n",
       "                OC            522.024691\n",
       "                SA           1454.017327\n",
       "seaplane_base   AF                   NaN\n",
       "                AS            749.722222\n",
       "                EU            578.750000\n",
       "                OC              0.000000\n",
       "                SA            591.400000\n",
       "small_airport   AF           2729.236821\n",
       "                AN           1151.136364\n",
       "                AS           1549.283114\n",
       "                EU            867.826016\n",
       "                OC           1011.341220\n",
       "                SA           1215.240733\n",
       "Name: elevation_ft, dtype: float64"
      ]
     },
     "execution_count": 60,
     "metadata": {},
     "output_type": "execute_result"
    }
   ],
   "source": [
    "agrupacion = airports.groupby([\"type\",\"continent\"])[\"elevation_ft\"].mean()\n",
    "agrupacion"
   ]
  },
  {
   "cell_type": "markdown",
   "id": "6a5c4789",
   "metadata": {},
   "source": [
    "11. Obtener el número de valores que faltan por cada columna"
   ]
  },
  {
   "cell_type": "code",
   "execution_count": 62,
   "id": "7ad26596",
   "metadata": {},
   "outputs": [
    {
     "data": {
      "text/plain": [
       "id                       0\n",
       "ident                    0\n",
       "type                     0\n",
       "name                     0\n",
       "latitude_deg             0\n",
       "longitude_deg            0\n",
       "elevation_ft         14368\n",
       "continent            37064\n",
       "iso_country            259\n",
       "iso_region               0\n",
       "municipality          4928\n",
       "scheduled_service        0\n",
       "gps_code             35209\n",
       "iata_code            67936\n",
       "local_code           43992\n",
       "home_link            73120\n",
       "wikipedia_link       65761\n",
       "keywords             59468\n",
       "dtype: int64"
      ]
     },
     "execution_count": 62,
     "metadata": {},
     "output_type": "execute_result"
    }
   ],
   "source": [
    "airports.isnull().sum()"
   ]
  },
  {
   "cell_type": "markdown",
   "id": "8285c2ea",
   "metadata": {},
   "source": [
    "12. Obtener una serie con el número de valores que hay para cada continente, incluyendo los que faltan (NaN)"
   ]
  },
  {
   "cell_type": "code",
   "execution_count": 63,
   "id": "595c858d",
   "metadata": {},
   "outputs": [
    {
     "data": {
      "text/plain": [
       "NaN    37064\n",
       "AS     11080\n",
       "SA     10647\n",
       "EU     10116\n",
       "AF      3979\n",
       "OC      3908\n",
       "AN        44\n",
       "Name: continent, dtype: int64"
      ]
     },
     "execution_count": 63,
     "metadata": {},
     "output_type": "execute_result"
    }
   ],
   "source": [
    "nan_cont = airports[\"continent\"].value_counts(dropna=False) #cuenta los NaN\n",
    "nan_cont"
   ]
  },
  {
   "cell_type": "markdown",
   "id": "22c7e278",
   "metadata": {},
   "source": [
    "13. Descartar las columnas que tienen al menos un valor NaN"
   ]
  },
  {
   "cell_type": "code",
   "execution_count": 64,
   "id": "223a5bd9",
   "metadata": {},
   "outputs": [
    {
     "data": {
      "text/html": [
       "<div>\n",
       "<style scoped>\n",
       "    .dataframe tbody tr th:only-of-type {\n",
       "        vertical-align: middle;\n",
       "    }\n",
       "\n",
       "    .dataframe tbody tr th {\n",
       "        vertical-align: top;\n",
       "    }\n",
       "\n",
       "    .dataframe thead th {\n",
       "        text-align: right;\n",
       "    }\n",
       "</style>\n",
       "<table border=\"1\" class=\"dataframe\">\n",
       "  <thead>\n",
       "    <tr style=\"text-align: right;\">\n",
       "      <th></th>\n",
       "      <th>id</th>\n",
       "      <th>ident</th>\n",
       "      <th>type</th>\n",
       "      <th>name</th>\n",
       "      <th>latitude_deg</th>\n",
       "      <th>longitude_deg</th>\n",
       "      <th>iso_region</th>\n",
       "      <th>scheduled_service</th>\n",
       "    </tr>\n",
       "  </thead>\n",
       "  <tbody>\n",
       "    <tr>\n",
       "      <th>0</th>\n",
       "      <td>6523</td>\n",
       "      <td>00A</td>\n",
       "      <td>heliport</td>\n",
       "      <td>Total RF Heliport</td>\n",
       "      <td>40.070985</td>\n",
       "      <td>-74.933689</td>\n",
       "      <td>US-PA</td>\n",
       "      <td>no</td>\n",
       "    </tr>\n",
       "    <tr>\n",
       "      <th>1</th>\n",
       "      <td>323361</td>\n",
       "      <td>00AA</td>\n",
       "      <td>small_airport</td>\n",
       "      <td>Aero B Ranch Airport</td>\n",
       "      <td>38.704022</td>\n",
       "      <td>-101.473911</td>\n",
       "      <td>US-KS</td>\n",
       "      <td>no</td>\n",
       "    </tr>\n",
       "    <tr>\n",
       "      <th>2</th>\n",
       "      <td>6524</td>\n",
       "      <td>00AK</td>\n",
       "      <td>small_airport</td>\n",
       "      <td>Lowell Field</td>\n",
       "      <td>59.947733</td>\n",
       "      <td>-151.692524</td>\n",
       "      <td>US-AK</td>\n",
       "      <td>no</td>\n",
       "    </tr>\n",
       "    <tr>\n",
       "      <th>3</th>\n",
       "      <td>6525</td>\n",
       "      <td>00AL</td>\n",
       "      <td>small_airport</td>\n",
       "      <td>Epps Airpark</td>\n",
       "      <td>34.864799</td>\n",
       "      <td>-86.770302</td>\n",
       "      <td>US-AL</td>\n",
       "      <td>no</td>\n",
       "    </tr>\n",
       "    <tr>\n",
       "      <th>4</th>\n",
       "      <td>506791</td>\n",
       "      <td>00AN</td>\n",
       "      <td>small_airport</td>\n",
       "      <td>Katmai Lodge Airport</td>\n",
       "      <td>59.093287</td>\n",
       "      <td>-156.456699</td>\n",
       "      <td>US-AK</td>\n",
       "      <td>no</td>\n",
       "    </tr>\n",
       "    <tr>\n",
       "      <th>...</th>\n",
       "      <td>...</td>\n",
       "      <td>...</td>\n",
       "      <td>...</td>\n",
       "      <td>...</td>\n",
       "      <td>...</td>\n",
       "      <td>...</td>\n",
       "      <td>...</td>\n",
       "      <td>...</td>\n",
       "    </tr>\n",
       "    <tr>\n",
       "      <th>76833</th>\n",
       "      <td>46378</td>\n",
       "      <td>ZZ-0001</td>\n",
       "      <td>heliport</td>\n",
       "      <td>Sealand Helipad</td>\n",
       "      <td>51.894444</td>\n",
       "      <td>1.482500</td>\n",
       "      <td>GB-ENG</td>\n",
       "      <td>no</td>\n",
       "    </tr>\n",
       "    <tr>\n",
       "      <th>76834</th>\n",
       "      <td>307326</td>\n",
       "      <td>ZZ-0002</td>\n",
       "      <td>small_airport</td>\n",
       "      <td>Glorioso Islands Airstrip</td>\n",
       "      <td>-11.584278</td>\n",
       "      <td>47.296389</td>\n",
       "      <td>TF-U-A</td>\n",
       "      <td>no</td>\n",
       "    </tr>\n",
       "    <tr>\n",
       "      <th>76835</th>\n",
       "      <td>346788</td>\n",
       "      <td>ZZ-0003</td>\n",
       "      <td>small_airport</td>\n",
       "      <td>Fainting Goat Airport</td>\n",
       "      <td>32.110587</td>\n",
       "      <td>-97.356312</td>\n",
       "      <td>US-TX</td>\n",
       "      <td>no</td>\n",
       "    </tr>\n",
       "    <tr>\n",
       "      <th>76836</th>\n",
       "      <td>342102</td>\n",
       "      <td>ZZZW</td>\n",
       "      <td>closed</td>\n",
       "      <td>Scandium City Heliport</td>\n",
       "      <td>69.355287</td>\n",
       "      <td>-138.939310</td>\n",
       "      <td>CA-YT</td>\n",
       "      <td>no</td>\n",
       "    </tr>\n",
       "    <tr>\n",
       "      <th>76837</th>\n",
       "      <td>313629</td>\n",
       "      <td>ZZZZ</td>\n",
       "      <td>small_airport</td>\n",
       "      <td>Satsuma Iōjima Airport</td>\n",
       "      <td>30.784722</td>\n",
       "      <td>130.270556</td>\n",
       "      <td>JP-46</td>\n",
       "      <td>no</td>\n",
       "    </tr>\n",
       "  </tbody>\n",
       "</table>\n",
       "<p>76838 rows × 8 columns</p>\n",
       "</div>"
      ],
      "text/plain": [
       "           id    ident           type                       name  \\\n",
       "0        6523      00A       heliport          Total RF Heliport   \n",
       "1      323361     00AA  small_airport       Aero B Ranch Airport   \n",
       "2        6524     00AK  small_airport               Lowell Field   \n",
       "3        6525     00AL  small_airport               Epps Airpark   \n",
       "4      506791     00AN  small_airport       Katmai Lodge Airport   \n",
       "...       ...      ...            ...                        ...   \n",
       "76833   46378  ZZ-0001       heliport            Sealand Helipad   \n",
       "76834  307326  ZZ-0002  small_airport  Glorioso Islands Airstrip   \n",
       "76835  346788  ZZ-0003  small_airport      Fainting Goat Airport   \n",
       "76836  342102     ZZZW         closed     Scandium City Heliport   \n",
       "76837  313629     ZZZZ  small_airport     Satsuma Iōjima Airport   \n",
       "\n",
       "       latitude_deg  longitude_deg iso_region scheduled_service  \n",
       "0         40.070985     -74.933689      US-PA                no  \n",
       "1         38.704022    -101.473911      US-KS                no  \n",
       "2         59.947733    -151.692524      US-AK                no  \n",
       "3         34.864799     -86.770302      US-AL                no  \n",
       "4         59.093287    -156.456699      US-AK                no  \n",
       "...             ...            ...        ...               ...  \n",
       "76833     51.894444       1.482500     GB-ENG                no  \n",
       "76834    -11.584278      47.296389     TF-U-A                no  \n",
       "76835     32.110587     -97.356312      US-TX                no  \n",
       "76836     69.355287    -138.939310      CA-YT                no  \n",
       "76837     30.784722     130.270556      JP-46                no  \n",
       "\n",
       "[76838 rows x 8 columns]"
      ]
     },
     "execution_count": 64,
     "metadata": {},
     "output_type": "execute_result"
    }
   ],
   "source": [
    "nueva=airports.dropna(axis=1) \n",
    "nueva\n"
   ]
  },
  {
   "cell_type": "code",
   "execution_count": 65,
   "id": "ab77fef5",
   "metadata": {},
   "outputs": [
    {
     "name": "stdout",
     "output_type": "stream",
     "text": [
      "<class 'pandas.core.frame.DataFrame'>\n",
      "RangeIndex: 76838 entries, 0 to 76837\n",
      "Data columns (total 8 columns):\n",
      " #   Column             Non-Null Count  Dtype  \n",
      "---  ------             --------------  -----  \n",
      " 0   id                 76838 non-null  int64  \n",
      " 1   ident              76838 non-null  object \n",
      " 2   type               76838 non-null  object \n",
      " 3   name               76838 non-null  object \n",
      " 4   latitude_deg       76838 non-null  float64\n",
      " 5   longitude_deg      76838 non-null  float64\n",
      " 6   iso_region         76838 non-null  object \n",
      " 7   scheduled_service  76838 non-null  object \n",
      "dtypes: float64(2), int64(1), object(5)\n",
      "memory usage: 4.7+ MB\n"
     ]
    }
   ],
   "source": [
    "nueva.info()"
   ]
  },
  {
   "cell_type": "markdown",
   "id": "c69685a3",
   "metadata": {},
   "source": [
    "14. Descartar las filas que tengan 10 o más datos nulos"
   ]
  },
  {
   "cell_type": "code",
   "execution_count": 66,
   "id": "3f266e76",
   "metadata": {},
   "outputs": [
    {
     "data": {
      "text/html": [
       "<div>\n",
       "<style scoped>\n",
       "    .dataframe tbody tr th:only-of-type {\n",
       "        vertical-align: middle;\n",
       "    }\n",
       "\n",
       "    .dataframe tbody tr th {\n",
       "        vertical-align: top;\n",
       "    }\n",
       "\n",
       "    .dataframe thead th {\n",
       "        text-align: right;\n",
       "    }\n",
       "</style>\n",
       "<table border=\"1\" class=\"dataframe\">\n",
       "  <thead>\n",
       "    <tr style=\"text-align: right;\">\n",
       "      <th></th>\n",
       "      <th>id</th>\n",
       "      <th>ident</th>\n",
       "      <th>type</th>\n",
       "      <th>name</th>\n",
       "      <th>latitude_deg</th>\n",
       "      <th>longitude_deg</th>\n",
       "      <th>elevation_ft</th>\n",
       "      <th>continent</th>\n",
       "      <th>iso_country</th>\n",
       "      <th>iso_region</th>\n",
       "      <th>municipality</th>\n",
       "      <th>scheduled_service</th>\n",
       "      <th>gps_code</th>\n",
       "      <th>iata_code</th>\n",
       "      <th>local_code</th>\n",
       "      <th>home_link</th>\n",
       "      <th>wikipedia_link</th>\n",
       "      <th>keywords</th>\n",
       "    </tr>\n",
       "  </thead>\n",
       "  <tbody>\n",
       "    <tr>\n",
       "      <th>0</th>\n",
       "      <td>6523</td>\n",
       "      <td>00A</td>\n",
       "      <td>heliport</td>\n",
       "      <td>Total RF Heliport</td>\n",
       "      <td>40.070985</td>\n",
       "      <td>-74.933689</td>\n",
       "      <td>11.0</td>\n",
       "      <td>NaN</td>\n",
       "      <td>US</td>\n",
       "      <td>US-PA</td>\n",
       "      <td>Bensalem</td>\n",
       "      <td>no</td>\n",
       "      <td>K00A</td>\n",
       "      <td>NaN</td>\n",
       "      <td>00A</td>\n",
       "      <td>https://www.penndot.pa.gov/TravelInPA/airports...</td>\n",
       "      <td>NaN</td>\n",
       "      <td>NaN</td>\n",
       "    </tr>\n",
       "    <tr>\n",
       "      <th>1</th>\n",
       "      <td>323361</td>\n",
       "      <td>00AA</td>\n",
       "      <td>small_airport</td>\n",
       "      <td>Aero B Ranch Airport</td>\n",
       "      <td>38.704022</td>\n",
       "      <td>-101.473911</td>\n",
       "      <td>3435.0</td>\n",
       "      <td>NaN</td>\n",
       "      <td>US</td>\n",
       "      <td>US-KS</td>\n",
       "      <td>Leoti</td>\n",
       "      <td>no</td>\n",
       "      <td>00AA</td>\n",
       "      <td>NaN</td>\n",
       "      <td>00AA</td>\n",
       "      <td>NaN</td>\n",
       "      <td>NaN</td>\n",
       "      <td>NaN</td>\n",
       "    </tr>\n",
       "    <tr>\n",
       "      <th>2</th>\n",
       "      <td>6524</td>\n",
       "      <td>00AK</td>\n",
       "      <td>small_airport</td>\n",
       "      <td>Lowell Field</td>\n",
       "      <td>59.947733</td>\n",
       "      <td>-151.692524</td>\n",
       "      <td>450.0</td>\n",
       "      <td>NaN</td>\n",
       "      <td>US</td>\n",
       "      <td>US-AK</td>\n",
       "      <td>Anchor Point</td>\n",
       "      <td>no</td>\n",
       "      <td>00AK</td>\n",
       "      <td>NaN</td>\n",
       "      <td>00AK</td>\n",
       "      <td>NaN</td>\n",
       "      <td>NaN</td>\n",
       "      <td>NaN</td>\n",
       "    </tr>\n",
       "    <tr>\n",
       "      <th>3</th>\n",
       "      <td>6525</td>\n",
       "      <td>00AL</td>\n",
       "      <td>small_airport</td>\n",
       "      <td>Epps Airpark</td>\n",
       "      <td>34.864799</td>\n",
       "      <td>-86.770302</td>\n",
       "      <td>820.0</td>\n",
       "      <td>NaN</td>\n",
       "      <td>US</td>\n",
       "      <td>US-AL</td>\n",
       "      <td>Harvest</td>\n",
       "      <td>no</td>\n",
       "      <td>00AL</td>\n",
       "      <td>NaN</td>\n",
       "      <td>00AL</td>\n",
       "      <td>NaN</td>\n",
       "      <td>NaN</td>\n",
       "      <td>NaN</td>\n",
       "    </tr>\n",
       "    <tr>\n",
       "      <th>4</th>\n",
       "      <td>506791</td>\n",
       "      <td>00AN</td>\n",
       "      <td>small_airport</td>\n",
       "      <td>Katmai Lodge Airport</td>\n",
       "      <td>59.093287</td>\n",
       "      <td>-156.456699</td>\n",
       "      <td>80.0</td>\n",
       "      <td>NaN</td>\n",
       "      <td>US</td>\n",
       "      <td>US-AK</td>\n",
       "      <td>King Salmon</td>\n",
       "      <td>no</td>\n",
       "      <td>00AN</td>\n",
       "      <td>NaN</td>\n",
       "      <td>00AN</td>\n",
       "      <td>NaN</td>\n",
       "      <td>NaN</td>\n",
       "      <td>NaN</td>\n",
       "    </tr>\n",
       "    <tr>\n",
       "      <th>...</th>\n",
       "      <td>...</td>\n",
       "      <td>...</td>\n",
       "      <td>...</td>\n",
       "      <td>...</td>\n",
       "      <td>...</td>\n",
       "      <td>...</td>\n",
       "      <td>...</td>\n",
       "      <td>...</td>\n",
       "      <td>...</td>\n",
       "      <td>...</td>\n",
       "      <td>...</td>\n",
       "      <td>...</td>\n",
       "      <td>...</td>\n",
       "      <td>...</td>\n",
       "      <td>...</td>\n",
       "      <td>...</td>\n",
       "      <td>...</td>\n",
       "      <td>...</td>\n",
       "    </tr>\n",
       "    <tr>\n",
       "      <th>76833</th>\n",
       "      <td>46378</td>\n",
       "      <td>ZZ-0001</td>\n",
       "      <td>heliport</td>\n",
       "      <td>Sealand Helipad</td>\n",
       "      <td>51.894444</td>\n",
       "      <td>1.482500</td>\n",
       "      <td>40.0</td>\n",
       "      <td>EU</td>\n",
       "      <td>GB</td>\n",
       "      <td>GB-ENG</td>\n",
       "      <td>Sealand</td>\n",
       "      <td>no</td>\n",
       "      <td>NaN</td>\n",
       "      <td>NaN</td>\n",
       "      <td>NaN</td>\n",
       "      <td>http://www.sealandgov.org/</td>\n",
       "      <td>https://en.wikipedia.org/wiki/Principality_of_...</td>\n",
       "      <td>Roughs Tower Helipad</td>\n",
       "    </tr>\n",
       "    <tr>\n",
       "      <th>76834</th>\n",
       "      <td>307326</td>\n",
       "      <td>ZZ-0002</td>\n",
       "      <td>small_airport</td>\n",
       "      <td>Glorioso Islands Airstrip</td>\n",
       "      <td>-11.584278</td>\n",
       "      <td>47.296389</td>\n",
       "      <td>11.0</td>\n",
       "      <td>AF</td>\n",
       "      <td>TF</td>\n",
       "      <td>TF-U-A</td>\n",
       "      <td>Grande Glorieuse</td>\n",
       "      <td>no</td>\n",
       "      <td>NaN</td>\n",
       "      <td>NaN</td>\n",
       "      <td>NaN</td>\n",
       "      <td>NaN</td>\n",
       "      <td>NaN</td>\n",
       "      <td>NaN</td>\n",
       "    </tr>\n",
       "    <tr>\n",
       "      <th>76835</th>\n",
       "      <td>346788</td>\n",
       "      <td>ZZ-0003</td>\n",
       "      <td>small_airport</td>\n",
       "      <td>Fainting Goat Airport</td>\n",
       "      <td>32.110587</td>\n",
       "      <td>-97.356312</td>\n",
       "      <td>690.0</td>\n",
       "      <td>NaN</td>\n",
       "      <td>US</td>\n",
       "      <td>US-TX</td>\n",
       "      <td>Blum</td>\n",
       "      <td>no</td>\n",
       "      <td>87TX</td>\n",
       "      <td>NaN</td>\n",
       "      <td>87TX</td>\n",
       "      <td>NaN</td>\n",
       "      <td>NaN</td>\n",
       "      <td>NaN</td>\n",
       "    </tr>\n",
       "    <tr>\n",
       "      <th>76836</th>\n",
       "      <td>342102</td>\n",
       "      <td>ZZZW</td>\n",
       "      <td>closed</td>\n",
       "      <td>Scandium City Heliport</td>\n",
       "      <td>69.355287</td>\n",
       "      <td>-138.939310</td>\n",
       "      <td>4.0</td>\n",
       "      <td>NaN</td>\n",
       "      <td>CA</td>\n",
       "      <td>CA-YT</td>\n",
       "      <td>(Old) Scandium City</td>\n",
       "      <td>no</td>\n",
       "      <td>NaN</td>\n",
       "      <td>NaN</td>\n",
       "      <td>NaN</td>\n",
       "      <td>NaN</td>\n",
       "      <td>NaN</td>\n",
       "      <td>ZZZW, ZZZW, ZYW, YK96</td>\n",
       "    </tr>\n",
       "    <tr>\n",
       "      <th>76837</th>\n",
       "      <td>313629</td>\n",
       "      <td>ZZZZ</td>\n",
       "      <td>small_airport</td>\n",
       "      <td>Satsuma Iōjima Airport</td>\n",
       "      <td>30.784722</td>\n",
       "      <td>130.270556</td>\n",
       "      <td>338.0</td>\n",
       "      <td>AS</td>\n",
       "      <td>JP</td>\n",
       "      <td>JP-46</td>\n",
       "      <td>Mishima</td>\n",
       "      <td>no</td>\n",
       "      <td>RJX7</td>\n",
       "      <td>NaN</td>\n",
       "      <td>RJX7</td>\n",
       "      <td>NaN</td>\n",
       "      <td>http://wikimapia.org/6705190/Satsuma-Iwo-jima-...</td>\n",
       "      <td>SATSUMA,IWOJIMA,RJX7</td>\n",
       "    </tr>\n",
       "  </tbody>\n",
       "</table>\n",
       "<p>76838 rows × 18 columns</p>\n",
       "</div>"
      ],
      "text/plain": [
       "           id    ident           type                       name  \\\n",
       "0        6523      00A       heliport          Total RF Heliport   \n",
       "1      323361     00AA  small_airport       Aero B Ranch Airport   \n",
       "2        6524     00AK  small_airport               Lowell Field   \n",
       "3        6525     00AL  small_airport               Epps Airpark   \n",
       "4      506791     00AN  small_airport       Katmai Lodge Airport   \n",
       "...       ...      ...            ...                        ...   \n",
       "76833   46378  ZZ-0001       heliport            Sealand Helipad   \n",
       "76834  307326  ZZ-0002  small_airport  Glorioso Islands Airstrip   \n",
       "76835  346788  ZZ-0003  small_airport      Fainting Goat Airport   \n",
       "76836  342102     ZZZW         closed     Scandium City Heliport   \n",
       "76837  313629     ZZZZ  small_airport     Satsuma Iōjima Airport   \n",
       "\n",
       "       latitude_deg  longitude_deg  elevation_ft continent iso_country  \\\n",
       "0         40.070985     -74.933689          11.0       NaN          US   \n",
       "1         38.704022    -101.473911        3435.0       NaN          US   \n",
       "2         59.947733    -151.692524         450.0       NaN          US   \n",
       "3         34.864799     -86.770302         820.0       NaN          US   \n",
       "4         59.093287    -156.456699          80.0       NaN          US   \n",
       "...             ...            ...           ...       ...         ...   \n",
       "76833     51.894444       1.482500          40.0        EU          GB   \n",
       "76834    -11.584278      47.296389          11.0        AF          TF   \n",
       "76835     32.110587     -97.356312         690.0       NaN          US   \n",
       "76836     69.355287    -138.939310           4.0       NaN          CA   \n",
       "76837     30.784722     130.270556         338.0        AS          JP   \n",
       "\n",
       "      iso_region         municipality scheduled_service gps_code iata_code  \\\n",
       "0          US-PA             Bensalem                no     K00A       NaN   \n",
       "1          US-KS                Leoti                no     00AA       NaN   \n",
       "2          US-AK         Anchor Point                no     00AK       NaN   \n",
       "3          US-AL              Harvest                no     00AL       NaN   \n",
       "4          US-AK          King Salmon                no     00AN       NaN   \n",
       "...          ...                  ...               ...      ...       ...   \n",
       "76833     GB-ENG              Sealand                no      NaN       NaN   \n",
       "76834     TF-U-A     Grande Glorieuse                no      NaN       NaN   \n",
       "76835      US-TX                 Blum                no     87TX       NaN   \n",
       "76836      CA-YT  (Old) Scandium City                no      NaN       NaN   \n",
       "76837      JP-46              Mishima                no     RJX7       NaN   \n",
       "\n",
       "      local_code                                          home_link  \\\n",
       "0            00A  https://www.penndot.pa.gov/TravelInPA/airports...   \n",
       "1           00AA                                                NaN   \n",
       "2           00AK                                                NaN   \n",
       "3           00AL                                                NaN   \n",
       "4           00AN                                                NaN   \n",
       "...          ...                                                ...   \n",
       "76833        NaN                         http://www.sealandgov.org/   \n",
       "76834        NaN                                                NaN   \n",
       "76835       87TX                                                NaN   \n",
       "76836        NaN                                                NaN   \n",
       "76837       RJX7                                                NaN   \n",
       "\n",
       "                                          wikipedia_link  \\\n",
       "0                                                    NaN   \n",
       "1                                                    NaN   \n",
       "2                                                    NaN   \n",
       "3                                                    NaN   \n",
       "4                                                    NaN   \n",
       "...                                                  ...   \n",
       "76833  https://en.wikipedia.org/wiki/Principality_of_...   \n",
       "76834                                                NaN   \n",
       "76835                                                NaN   \n",
       "76836                                                NaN   \n",
       "76837  http://wikimapia.org/6705190/Satsuma-Iwo-jima-...   \n",
       "\n",
       "                    keywords  \n",
       "0                        NaN  \n",
       "1                        NaN  \n",
       "2                        NaN  \n",
       "3                        NaN  \n",
       "4                        NaN  \n",
       "...                      ...  \n",
       "76833   Roughs Tower Helipad  \n",
       "76834                    NaN  \n",
       "76835                    NaN  \n",
       "76836  ZZZW, ZZZW, ZYW, YK96  \n",
       "76837   SATSUMA,IWOJIMA,RJX7  \n",
       "\n",
       "[76838 rows x 18 columns]"
      ]
     },
     "execution_count": 66,
     "metadata": {},
     "output_type": "execute_result"
    }
   ],
   "source": [
    "nueva = airports.dropna(thresh=airports.shape[1]-10)\n",
    "nueva"
   ]
  },
  {
   "cell_type": "markdown",
   "id": "f00021bc",
   "metadata": {},
   "source": [
    "15. Rellenar los valores que faltan en la columna ```elevation_ft``` por la media de las alturas (se puede comprobar mirando la fila 96: ```dataframe.loc[95:97]```)"
   ]
  },
  {
   "cell_type": "code",
   "execution_count": 72,
   "id": "7cbfed26",
   "metadata": {},
   "outputs": [
    {
     "data": {
      "text/plain": [
       "1301.395854009925"
      ]
     },
     "execution_count": 72,
     "metadata": {},
     "output_type": "execute_result"
    }
   ],
   "source": [
    "altura_media =airports[\"elevation_ft\"].mean()\n",
    "altura_media"
   ]
  },
  {
   "cell_type": "code",
   "execution_count": 73,
   "id": "930e0ff6",
   "metadata": {},
   "outputs": [
    {
     "data": {
      "text/plain": [
       "95     140.000000\n",
       "96    1301.395854\n",
       "97     608.000000\n",
       "Name: elevation_ft, dtype: float64"
      ]
     },
     "execution_count": 73,
     "metadata": {},
     "output_type": "execute_result"
    }
   ],
   "source": [
    "\n",
    "new = airports[\"elevation_ft\"].fillna(altura_media) \n",
    "new\n",
    "new.loc[95:97]"
   ]
  },
  {
   "cell_type": "markdown",
   "id": "3d21d424",
   "metadata": {},
   "source": [
    "## Ejercicio 3: Visualización de datos de aeropuertos (1,5 puntos)"
   ]
  },
  {
   "cell_type": "markdown",
   "id": "eb1a9d22",
   "metadata": {},
   "source": [
    "1. Muestra un histograma de los datos de aeropuertos en los que muestre el número de aeropuertos por continente. El color de las barras ha de ser rojo."
   ]
  },
  {
   "cell_type": "code",
   "execution_count": 77,
   "id": "943822cb",
   "metadata": {},
   "outputs": [
    {
     "data": {
      "text/plain": [
       "<pandas.core.groupby.generic.DataFrameGroupBy object at 0x0000024D29F9CF10>"
      ]
     },
     "execution_count": 77,
     "metadata": {},
     "output_type": "execute_result"
    }
   ],
   "source": [
    "aero_cont = airports.groupby([\"continent\"])\n",
    "aero_cont\n"
   ]
  },
  {
   "cell_type": "markdown",
   "id": "eac6ec77",
   "metadata": {},
   "source": [
    "2. Muestra un diagrama de cajas (boxplots) con las alturas de los aeropuertos agrupadas por tipo de aeropuerto"
   ]
  },
  {
   "cell_type": "code",
   "execution_count": 81,
   "id": "d711f5f0",
   "metadata": {},
   "outputs": [
    {
     "data": {
      "text/plain": [
       "{'whiskers': [<matplotlib.lines.Line2D at 0x24d2add7e20>,\n",
       "  <matplotlib.lines.Line2D at 0x24d2ae04100>],\n",
       " 'caps': [<matplotlib.lines.Line2D at 0x24d2ae043a0>,\n",
       "  <matplotlib.lines.Line2D at 0x24d2ae04640>],\n",
       " 'boxes': [<matplotlib.lines.Line2D at 0x24d2add7b80>],\n",
       " 'medians': [<matplotlib.lines.Line2D at 0x24d2ae048e0>],\n",
       " 'fliers': [<matplotlib.lines.Line2D at 0x24d2ae04b80>],\n",
       " 'means': []}"
      ]
     },
     "execution_count": 81,
     "metadata": {},
     "output_type": "execute_result"
    },
    {
     "data": {
      "image/png": "[encoded data removed]",
      "text/plain": [
       "<Figure size 640x480 with 1 Axes>"
      ]
     },
     "metadata": {},
     "output_type": "display_data"
    }
   ],
   "source": [
    "agrupacion = airports.groupby([\"type\"])[\"elevation_ft\"].sum()\n",
    "plt.boxplot(agrupacion)\n"
   ]
  },
  {
   "cell_type": "markdown",
   "id": "7d743cc5-85f1-48fd-9bfb-96e6c12fa227",
   "metadata": {},
   "source": [
    "3. Muestra un diagrama de puntos (scatterplot) con los puntos de latitud y longitud de los aeropuertos españoles de tamaño mediano"
   ]
  },
  {
   "cell_type": "code",
   "execution_count": 86,
   "id": "b8558e4c-999d-4d2b-b882-ebce6e15190d",
   "metadata": {},
   "outputs": [
    {
     "data": {
      "text/plain": [
       "<Axes: xlabel='latitude_deg', ylabel='longitude_deg'>"
      ]
     },
     "execution_count": 86,
     "metadata": {},
     "output_type": "execute_result"
    },
    {
     "data": {
      "image/png": "[encoded data removed]",
      "text/plain": [
       "<Figure size 640x480 with 1 Axes>"
      ]
     },
     "metadata": {},
     "output_type": "display_data"
    }
   ],
   "source": [
    "ES = airports[airports['iso_country'] == 'ES']\n",
    "sns.scatterplot(x=\"latitude_deg\", y=\"longitude_deg\",  data=ES)\n"
   ]
  },
  {
   "cell_type": "markdown",
   "id": "cdf4c091",
   "metadata": {},
   "source": [
    "## Ejercicio 4: Visualización de datos de cafeterías (1,5 puntos)"
   ]
  },
  {
   "cell_type": "markdown",
   "id": "f6cf0ddb",
   "metadata": {},
   "source": [
    "### Paso previo: leer el fichero de datos de cafeterías que está en el campus virtual (fichero \"data_coffeeshop.csv\"). Cada fila del fichero contiene el año en el que se abrió una cafetería, el estado actual (In: abierta, Out: cerrada), y el tamaño de la cafetería."
   ]
  },
  {
   "cell_type": "code",
   "execution_count": 88,
   "id": "4ae99fad",
   "metadata": {},
   "outputs": [
    {
     "data": {
      "text/html": [
       "<div>\n",
       "<style scoped>\n",
       "    .dataframe tbody tr th:only-of-type {\n",
       "        vertical-align: middle;\n",
       "    }\n",
       "\n",
       "    .dataframe tbody tr th {\n",
       "        vertical-align: top;\n",
       "    }\n",
       "\n",
       "    .dataframe thead th {\n",
       "        text-align: right;\n",
       "    }\n",
       "</style>\n",
       "<table border=\"1\" class=\"dataframe\">\n",
       "  <thead>\n",
       "    <tr style=\"text-align: right;\">\n",
       "      <th></th>\n",
       "      <th>yearOfStart</th>\n",
       "      <th>CurrentState</th>\n",
       "      <th>sizeOfsite</th>\n",
       "    </tr>\n",
       "  </thead>\n",
       "  <tbody>\n",
       "    <tr>\n",
       "      <th>0</th>\n",
       "      <td>2008.0</td>\n",
       "      <td>In</td>\n",
       "      <td>20.80</td>\n",
       "    </tr>\n",
       "    <tr>\n",
       "      <th>1</th>\n",
       "      <td>2010.0</td>\n",
       "      <td>In</td>\n",
       "      <td>212.72</td>\n",
       "    </tr>\n",
       "    <tr>\n",
       "      <th>2</th>\n",
       "      <td>2013.0</td>\n",
       "      <td>In</td>\n",
       "      <td>20.04</td>\n",
       "    </tr>\n",
       "    <tr>\n",
       "      <th>3</th>\n",
       "      <td>2012.0</td>\n",
       "      <td>In</td>\n",
       "      <td>64.17</td>\n",
       "    </tr>\n",
       "    <tr>\n",
       "      <th>4</th>\n",
       "      <td>2002.0</td>\n",
       "      <td>Out</td>\n",
       "      <td>11.40</td>\n",
       "    </tr>\n",
       "    <tr>\n",
       "      <th>5</th>\n",
       "      <td>2013.0</td>\n",
       "      <td>In</td>\n",
       "      <td>10.99</td>\n",
       "    </tr>\n",
       "    <tr>\n",
       "      <th>6</th>\n",
       "      <td>2014.0</td>\n",
       "      <td>In</td>\n",
       "      <td>67.50</td>\n",
       "    </tr>\n",
       "    <tr>\n",
       "      <th>7</th>\n",
       "      <td>2011.0</td>\n",
       "      <td>In</td>\n",
       "      <td>46.05</td>\n",
       "    </tr>\n",
       "    <tr>\n",
       "      <th>8</th>\n",
       "      <td>2013.0</td>\n",
       "      <td>In</td>\n",
       "      <td>8.20</td>\n",
       "    </tr>\n",
       "    <tr>\n",
       "      <th>9</th>\n",
       "      <td>2011.0</td>\n",
       "      <td>In</td>\n",
       "      <td>39.92</td>\n",
       "    </tr>\n",
       "  </tbody>\n",
       "</table>\n",
       "</div>"
      ],
      "text/plain": [
       "   yearOfStart CurrentState  sizeOfsite\n",
       "0       2008.0           In       20.80\n",
       "1       2010.0           In      212.72\n",
       "2       2013.0           In       20.04\n",
       "3       2012.0           In       64.17\n",
       "4       2002.0          Out       11.40\n",
       "5       2013.0           In       10.99\n",
       "6       2014.0           In       67.50\n",
       "7       2011.0           In       46.05\n",
       "8       2013.0           In        8.20\n",
       "9       2011.0           In       39.92"
      ]
     },
     "execution_count": 88,
     "metadata": {},
     "output_type": "execute_result"
    }
   ],
   "source": [
    "datos_cafeterias = pd.read_csv(\"Datos/data_coffeeshop.csv\", header=\"infer\")\n",
    "datos_cafeterias.head(10)"
   ]
  },
  {
   "cell_type": "code",
   "execution_count": 89,
   "id": "2568be21",
   "metadata": {},
   "outputs": [
    {
     "name": "stdout",
     "output_type": "stream",
     "text": [
      "<class 'pandas.core.frame.DataFrame'>\n",
      "RangeIndex: 43182 entries, 0 to 43181\n",
      "Data columns (total 3 columns):\n",
      " #   Column        Non-Null Count  Dtype  \n",
      "---  ------        --------------  -----  \n",
      " 0   yearOfStart   43163 non-null  float64\n",
      " 1   CurrentState  43163 non-null  object \n",
      " 2   sizeOfsite    43163 non-null  float64\n",
      "dtypes: float64(2), object(1)\n",
      "memory usage: 1012.2+ KB\n"
     ]
    }
   ],
   "source": [
    "datos_cafeterias.info()"
   ]
  },
  {
   "cell_type": "markdown",
   "id": "c7df135c",
   "metadata": {},
   "source": [
    "### Genera los gráficos que solicitan a continuación"
   ]
  },
  {
   "cell_type": "markdown",
   "id": "fb8dc8eb",
   "metadata": {},
   "source": [
    "1. Crea un gráfico que incluya una línea que muestre el número de cafeterías abiertas entre los años 1998 y 2014 (ambos inclusive)"
   ]
  },
  {
   "cell_type": "code",
   "execution_count": 99,
   "id": "e162e324",
   "metadata": {},
   "outputs": [
    {
     "ename": "ValueError",
     "evalue": "could not convert string to float: 'In'",
     "output_type": "error",
     "traceback": [
      "\u001b[1;31m---------------------------------------------------------------------------\u001b[0m",
      "\u001b[1;31mValueError\u001b[0m                                Traceback (most recent call last)",
      "Cell \u001b[1;32mIn[99], line 3\u001b[0m\n\u001b[0;32m      1\u001b[0m cafeterias_abiertas\u001b[38;5;241m=\u001b[39mdatos_cafeterias[(datos_cafeterias[\u001b[38;5;124m\"\u001b[39m\u001b[38;5;124myearOfStart\u001b[39m\u001b[38;5;124m\"\u001b[39m] \u001b[38;5;241m>\u001b[39m\u001b[38;5;241m=\u001b[39m \u001b[38;5;241m1998\u001b[39m) \u001b[38;5;241m&\u001b[39m (datos_cafeterias[\u001b[38;5;124m\"\u001b[39m\u001b[38;5;124myearOfStart\u001b[39m\u001b[38;5;124m\"\u001b[39m] \u001b[38;5;241m<\u001b[39m\u001b[38;5;241m=\u001b[39m \u001b[38;5;241m2014\u001b[39m) \u001b[38;5;241m&\u001b[39m (datos_cafeterias[\u001b[38;5;124m\"\u001b[39m\u001b[38;5;124mCurrentState\u001b[39m\u001b[38;5;124m\"\u001b[39m] \u001b[38;5;241m==\u001b[39m \u001b[38;5;124m'\u001b[39m\u001b[38;5;124mIn\u001b[39m\u001b[38;5;124m'\u001b[39m)]\n\u001b[0;32m      2\u001b[0m cafeterias_abiertas\n\u001b[1;32m----> 3\u001b[0m \u001b[43msns\u001b[49m\u001b[38;5;241;43m.\u001b[39;49m\u001b[43mlmplot\u001b[49m\u001b[43m(\u001b[49m\u001b[43mx\u001b[49m\u001b[38;5;241;43m=\u001b[39;49m\u001b[43m \u001b[49m\u001b[38;5;124;43m\"\u001b[39;49m\u001b[38;5;124;43myearOfStart\u001b[39;49m\u001b[38;5;124;43m\"\u001b[39;49m\u001b[43m,\u001b[49m\u001b[43m \u001b[49m\u001b[43my\u001b[49m\u001b[38;5;241;43m=\u001b[39;49m\u001b[43m \u001b[49m\u001b[38;5;124;43m'\u001b[39;49m\u001b[38;5;124;43mCurrentState\u001b[39;49m\u001b[38;5;124;43m'\u001b[39;49m\u001b[43m,\u001b[49m\u001b[43m \u001b[49m\u001b[43mdata\u001b[49m\u001b[43m \u001b[49m\u001b[38;5;241;43m=\u001b[39;49m\u001b[43m \u001b[49m\u001b[43mcafeterias_abiertas\u001b[49m\u001b[43m)\u001b[49m\n",
      "File \u001b[1;32m~\\AppData\\Local\\anaconda3\\lib\\site-packages\\seaborn\\regression.py:624\u001b[0m, in \u001b[0;36mlmplot\u001b[1;34m(data, x, y, hue, col, row, palette, col_wrap, height, aspect, markers, sharex, sharey, hue_order, col_order, row_order, legend, legend_out, x_estimator, x_bins, x_ci, scatter, fit_reg, ci, n_boot, units, seed, order, logistic, lowess, robust, logx, x_partial, y_partial, truncate, x_jitter, y_jitter, scatter_kws, line_kws, facet_kws)\u001b[0m\n\u001b[0;32m    621\u001b[0m     ax\u001b[38;5;241m.\u001b[39mupdate_datalim(xys, updatey\u001b[38;5;241m=\u001b[39m\u001b[38;5;28;01mFalse\u001b[39;00m)\n\u001b[0;32m    622\u001b[0m     ax\u001b[38;5;241m.\u001b[39mautoscale_view(scaley\u001b[38;5;241m=\u001b[39m\u001b[38;5;28;01mFalse\u001b[39;00m)\n\u001b[1;32m--> 624\u001b[0m \u001b[43mfacets\u001b[49m\u001b[38;5;241;43m.\u001b[39;49m\u001b[43mmap_dataframe\u001b[49m\u001b[43m(\u001b[49m\u001b[43mupdate_datalim\u001b[49m\u001b[43m,\u001b[49m\u001b[43m \u001b[49m\u001b[43mx\u001b[49m\u001b[38;5;241;43m=\u001b[39;49m\u001b[43mx\u001b[49m\u001b[43m,\u001b[49m\u001b[43m \u001b[49m\u001b[43my\u001b[49m\u001b[38;5;241;43m=\u001b[39;49m\u001b[43my\u001b[49m\u001b[43m)\u001b[49m\n\u001b[0;32m    626\u001b[0m \u001b[38;5;66;03m# Draw the regression plot on each facet\u001b[39;00m\n\u001b[0;32m    627\u001b[0m regplot_kws \u001b[38;5;241m=\u001b[39m \u001b[38;5;28mdict\u001b[39m(\n\u001b[0;32m    628\u001b[0m     x_estimator\u001b[38;5;241m=\u001b[39mx_estimator, x_bins\u001b[38;5;241m=\u001b[39mx_bins, x_ci\u001b[38;5;241m=\u001b[39mx_ci,\n\u001b[0;32m    629\u001b[0m     scatter\u001b[38;5;241m=\u001b[39mscatter, fit_reg\u001b[38;5;241m=\u001b[39mfit_reg, ci\u001b[38;5;241m=\u001b[39mci, n_boot\u001b[38;5;241m=\u001b[39mn_boot, units\u001b[38;5;241m=\u001b[39munits,\n\u001b[1;32m   (...)\u001b[0m\n\u001b[0;32m    633\u001b[0m     scatter_kws\u001b[38;5;241m=\u001b[39mscatter_kws, line_kws\u001b[38;5;241m=\u001b[39mline_kws,\n\u001b[0;32m    634\u001b[0m )\n",
      "File \u001b[1;32m~\\AppData\\Local\\anaconda3\\lib\\site-packages\\seaborn\\axisgrid.py:819\u001b[0m, in \u001b[0;36mFacetGrid.map_dataframe\u001b[1;34m(self, func, *args, **kwargs)\u001b[0m\n\u001b[0;32m    816\u001b[0m     kwargs[\u001b[38;5;124m\"\u001b[39m\u001b[38;5;124mdata\u001b[39m\u001b[38;5;124m\"\u001b[39m] \u001b[38;5;241m=\u001b[39m data_ijk\n\u001b[0;32m    818\u001b[0m     \u001b[38;5;66;03m# Draw the plot\u001b[39;00m\n\u001b[1;32m--> 819\u001b[0m     \u001b[38;5;28;43mself\u001b[39;49m\u001b[38;5;241;43m.\u001b[39;49m\u001b[43m_facet_plot\u001b[49m\u001b[43m(\u001b[49m\u001b[43mfunc\u001b[49m\u001b[43m,\u001b[49m\u001b[43m \u001b[49m\u001b[43max\u001b[49m\u001b[43m,\u001b[49m\u001b[43m \u001b[49m\u001b[43margs\u001b[49m\u001b[43m,\u001b[49m\u001b[43m \u001b[49m\u001b[43mkwargs\u001b[49m\u001b[43m)\u001b[49m\n\u001b[0;32m    821\u001b[0m \u001b[38;5;66;03m# For axis labels, prefer to use positional args for backcompat\u001b[39;00m\n\u001b[0;32m    822\u001b[0m \u001b[38;5;66;03m# but also extract the x/y kwargs and use if no corresponding arg\u001b[39;00m\n\u001b[0;32m    823\u001b[0m axis_labels \u001b[38;5;241m=\u001b[39m [kwargs\u001b[38;5;241m.\u001b[39mget(\u001b[38;5;124m\"\u001b[39m\u001b[38;5;124mx\u001b[39m\u001b[38;5;124m\"\u001b[39m, \u001b[38;5;28;01mNone\u001b[39;00m), kwargs\u001b[38;5;241m.\u001b[39mget(\u001b[38;5;124m\"\u001b[39m\u001b[38;5;124my\u001b[39m\u001b[38;5;124m\"\u001b[39m, \u001b[38;5;28;01mNone\u001b[39;00m)]\n",
      "File \u001b[1;32m~\\AppData\\Local\\anaconda3\\lib\\site-packages\\seaborn\\axisgrid.py:848\u001b[0m, in \u001b[0;36mFacetGrid._facet_plot\u001b[1;34m(self, func, ax, plot_args, plot_kwargs)\u001b[0m\n\u001b[0;32m    846\u001b[0m     plot_args \u001b[38;5;241m=\u001b[39m []\n\u001b[0;32m    847\u001b[0m     plot_kwargs[\u001b[38;5;124m\"\u001b[39m\u001b[38;5;124max\u001b[39m\u001b[38;5;124m\"\u001b[39m] \u001b[38;5;241m=\u001b[39m ax\n\u001b[1;32m--> 848\u001b[0m func(\u001b[38;5;241m*\u001b[39mplot_args, \u001b[38;5;241m*\u001b[39m\u001b[38;5;241m*\u001b[39mplot_kwargs)\n\u001b[0;32m    850\u001b[0m \u001b[38;5;66;03m# Sort out the supporting information\u001b[39;00m\n\u001b[0;32m    851\u001b[0m \u001b[38;5;28mself\u001b[39m\u001b[38;5;241m.\u001b[39m_update_legend_data(ax)\n",
      "File \u001b[1;32m~\\AppData\\Local\\anaconda3\\lib\\site-packages\\seaborn\\regression.py:620\u001b[0m, in \u001b[0;36mlmplot.<locals>.update_datalim\u001b[1;34m(data, x, y, ax, **kws)\u001b[0m\n\u001b[0;32m    619\u001b[0m \u001b[38;5;28;01mdef\u001b[39;00m \u001b[38;5;21mupdate_datalim\u001b[39m(data, x, y, ax, \u001b[38;5;241m*\u001b[39m\u001b[38;5;241m*\u001b[39mkws):\n\u001b[1;32m--> 620\u001b[0m     xys \u001b[38;5;241m=\u001b[39m \u001b[43mdata\u001b[49m\u001b[43m[\u001b[49m\u001b[43m[\u001b[49m\u001b[43mx\u001b[49m\u001b[43m,\u001b[49m\u001b[43m \u001b[49m\u001b[43my\u001b[49m\u001b[43m]\u001b[49m\u001b[43m]\u001b[49m\u001b[38;5;241;43m.\u001b[39;49m\u001b[43mto_numpy\u001b[49m\u001b[43m(\u001b[49m\u001b[43m)\u001b[49m\u001b[38;5;241;43m.\u001b[39;49m\u001b[43mastype\u001b[49m\u001b[43m(\u001b[49m\u001b[38;5;28;43mfloat\u001b[39;49m\u001b[43m)\u001b[49m\n\u001b[0;32m    621\u001b[0m     ax\u001b[38;5;241m.\u001b[39mupdate_datalim(xys, updatey\u001b[38;5;241m=\u001b[39m\u001b[38;5;28;01mFalse\u001b[39;00m)\n\u001b[0;32m    622\u001b[0m     ax\u001b[38;5;241m.\u001b[39mautoscale_view(scaley\u001b[38;5;241m=\u001b[39m\u001b[38;5;28;01mFalse\u001b[39;00m)\n",
      "\u001b[1;31mValueError\u001b[0m: could not convert string to float: 'In'"
     ]
    },
    {
     "data": {
      "image/png": "[encoded data removed]",
      "text/plain": [
       "<Figure size 500x500 with 1 Axes>"
      ]
     },
     "metadata": {},
     "output_type": "display_data"
    }
   ],
   "source": [
    "\n",
    "cafeterias_abiertas=datos_cafeterias[(datos_cafeterias[\"yearOfStart\"] >= 1998) & (datos_cafeterias[\"yearOfStart\"] <= 2014) & (datos_cafeterias[\"CurrentState\"] == 'In')]\n",
    "cafeterias_abiertas\n",
    "sns.lmplot(x= \"yearOfStart\", y= 'CurrentState', data = cafeterias_abiertas)     \n"
   ]
  },
  {
   "cell_type": "markdown",
   "id": "9173dfa6",
   "metadata": {},
   "source": [
    "2. Crea un histograma que muestre el número de cafeterías abiertas y cerradas entre el año 2007 y el 2014 (ambos inclusive)"
   ]
  },
  {
   "cell_type": "code",
   "execution_count": null,
   "id": "def0cbb6",
   "metadata": {},
   "outputs": [],
   "source": []
  },
  {
   "cell_type": "code",
   "execution_count": null,
   "id": "baef76c8",
   "metadata": {},
   "outputs": [],
   "source": [
    "3. Analiza los resultados de los dos gráficos y comenta qué se puede deducir de ellos."
   ]
  },
  {
   "cell_type": "code",
   "execution_count": null,
   "id": "4a64df74",
   "metadata": {},
   "outputs": [],
   "source": []
  }
 ],
 "metadata": {
  "kernelspec": {
   "display_name": "Python 3 (ipykernel)",
   "language": "python",
   "name": "python3"
  },
  "language_info": {
   "codemirror_mode": {
    "name": "ipython",
    "version": 3
   },
   "file_extension": ".py",
   "mimetype": "text/x-python",
   "name": "python",
   "nbconvert_exporter": "python",
   "pygments_lexer": "ipython3",
   "version": "3.10.9"
  }
 },
 "nbformat": 4,
 "nbformat_minor": 5
}
