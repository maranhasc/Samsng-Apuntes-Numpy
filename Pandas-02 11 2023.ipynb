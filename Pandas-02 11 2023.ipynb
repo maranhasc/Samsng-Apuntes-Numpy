{
 "cells": [
  {
   "cell_type": "markdown",
   "id": "2c80cbd2",
   "metadata": {},
   "source": [
    "Dia 02/11/2023 Empezamos Pandas Pag 75 Diapositiva 149\n",
    "    Tipos de datos:\n",
    "    Estructrurados: Documento CSV\n",
    "    Sin estructura \n",
    "    Semi estructurados : Un e-Mail\n",
    "    Descargamos el fichero CSV\n",
    "    Partiendo de un conjunto de datos se harán analisis con la informacion para hacer un modelo matemantico para a partir de unos datos si le preguntams por algo sepa dar una respuesta con u %elevado de precision y %bajo de error\n",
    "    Pej: un conjunto de mensajes de correo y despues determinar si un correo es spam o no\n",
    "    \n",
    "    La limpieza de los datos se hace con Pandas\n",
    "    Vamos a diapositiva 341 para poner en contexto lo que vamos a ver con Pandas\n",
    "    %del tiempo para precesar datos\n",
    "    60% en limpieza y organizacion del los datos\n",
    "    19%\n",
    "    9% datos minimos para Patrones\n",
    "    ....\n",
    "    \n",
    "    DataFrame, ¿que es? Es una tabla de filas y columnas, cada columna tiene un nombre y un tipo asociado y las filas son datos con un indice (al menos)\n",
    "    Que hacer cuando faltan datos?, pues lo veremos segun el tipo d edatos que tengamos que procesar\n",
    "    \n",
    "   # Pandas\n",
    "    Las columnas sse  llaman series pero no podemos trabajar con ellas de forma independientes\n",
    "    un Dataframe en Python, tratado con Pandas es un conjunto de Series"
   ]
  },
  {
   "cell_type": "markdown",
   "id": "8e4a36b5",
   "metadata": {},
   "source": [
    "# Series(Pandas)"
   ]
  },
  {
   "cell_type": "code",
   "execution_count": 5,
   "id": "22b6e853",
   "metadata": {},
   "outputs": [],
   "source": [
    "import pandas as pd"
   ]
  },
  {
   "cell_type": "code",
   "execution_count": 18,
   "id": "b8891ac6",
   "metadata": {},
   "outputs": [
    {
     "data": {
      "text/plain": [
       "0    25\n",
       "1    18\n",
       "2    39\n",
       "3    54\n",
       "dtype: int64"
      ]
     },
     "execution_count": 18,
     "metadata": {},
     "output_type": "execute_result"
    }
   ],
   "source": [
    "# Creacion de series\n",
    "serie_numeros = pd.Series([25, 18, 39, 54])\n",
    "serie_numeros"
   ]
  },
  {
   "cell_type": "code",
   "execution_count": 20,
   "id": "f0864a62",
   "metadata": {},
   "outputs": [
    {
     "data": {
      "text/plain": [
       "0    25.0\n",
       "1     1.8\n",
       "2     3.9\n",
       "3     5.5\n",
       "dtype: float64"
      ]
     },
     "execution_count": 20,
     "metadata": {},
     "output_type": "execute_result"
    }
   ],
   "source": [
    "serie_numeros = pd.Series([25, 1.8, 3.9, 5.5])\n",
    "serie_numeros"
   ]
  },
  {
   "cell_type": "code",
   "execution_count": 27,
   "id": "787aa607",
   "metadata": {},
   "outputs": [
    {
     "data": {
      "text/plain": [
       "0      25\n",
       "1      18\n",
       "2      39\n",
       "3    Pepe\n",
       "Name: Color, dtype: object"
      ]
     },
     "execution_count": 27,
     "metadata": {},
     "output_type": "execute_result"
    }
   ],
   "source": [
    "serie_letras =  pd.Series([\"25\", \"18\", \"39\", \"Pepe\"], name=\"Color\")\n",
    "serie_letras"
   ]
  },
  {
   "cell_type": "code",
   "execution_count": 13,
   "id": "ac035759",
   "metadata": {},
   "outputs": [
    {
     "data": {
      "text/plain": [
       "pandas.core.series.Series"
      ]
     },
     "execution_count": 13,
     "metadata": {},
     "output_type": "execute_result"
    }
   ],
   "source": [
    "type(serie_numeros)"
   ]
  },
  {
   "cell_type": "code",
   "execution_count": 21,
   "id": "6caaf0ab",
   "metadata": {},
   "outputs": [
    {
     "data": {
      "text/plain": [
       "0      25\n",
       "1      18\n",
       "2      39\n",
       "3    True\n",
       "dtype: object"
      ]
     },
     "execution_count": 21,
     "metadata": {},
     "output_type": "execute_result"
    }
   ],
   "source": [
    "serie = pd.Series([25, 18, 39, True])\n",
    "serie"
   ]
  },
  {
   "cell_type": "code",
   "execution_count": 25,
   "id": "eb0aa38a",
   "metadata": {},
   "outputs": [
    {
     "data": {
      "text/plain": [
       "0    25\n",
       "1    18\n",
       "2    39\n",
       "3     1\n",
       "dtype: int32"
      ]
     },
     "execution_count": 25,
     "metadata": {},
     "output_type": "execute_result"
    }
   ],
   "source": [
    "#Serie a partir de un array de numpy\n",
    "import numpy as np\n",
    "serie = pd.Series(np.array([25, 18, 39, True]))\n",
    "serie"
   ]
  },
  {
   "cell_type": "code",
   "execution_count": 28,
   "id": "91da22d9",
   "metadata": {},
   "outputs": [
    {
     "data": {
      "text/plain": [
       "0    25\n",
       "1    18\n",
       "2    39\n",
       "3     1\n",
       "dtype: int32"
      ]
     },
     "execution_count": 28,
     "metadata": {},
     "output_type": "execute_result"
    }
   ],
   "source": [
    "#Serie a partir de una serie\n",
    "serie_ = pd.Series([25, 18, 39, True])\n",
    "serie"
   ]
  },
  {
   "cell_type": "code",
   "execution_count": 30,
   "id": "56bd6078",
   "metadata": {},
   "outputs": [
    {
     "data": {
      "text/plain": [
       "'Color'"
      ]
     },
     "execution_count": 30,
     "metadata": {},
     "output_type": "execute_result"
    }
   ],
   "source": [
    "#Propiedades de las series, nombre\n",
    "serie_letras.name"
   ]
  },
  {
   "cell_type": "code",
   "execution_count": 32,
   "id": "39b9178c",
   "metadata": {},
   "outputs": [
    {
     "data": {
      "text/plain": [
       "RangeIndex(start=0, stop=4, step=1)"
      ]
     },
     "execution_count": 32,
     "metadata": {},
     "output_type": "execute_result"
    }
   ],
   "source": [
    "#Propiedades de las series, serie_letras =  pd.Series([\"25\", \"18\", \"39\", \"Pepe\"], name=\"Color\")\n",
    "\n",
    "serie_letras.index"
   ]
  },
  {
   "cell_type": "code",
   "execution_count": 36,
   "id": "3e52bede",
   "metadata": {},
   "outputs": [
    {
     "data": {
      "text/plain": [
       "array(['Perez', 'Martin'], dtype=object)"
      ]
     },
     "execution_count": 36,
     "metadata": {},
     "output_type": "execute_result"
    }
   ],
   "source": [
    "serie_letras.values"
   ]
  },
  {
   "cell_type": "code",
   "execution_count": 39,
   "id": "52dd377f",
   "metadata": {},
   "outputs": [
    {
     "data": {
      "text/plain": [
       "Eduardo     Perez\n",
       "Maria      Martin\n",
       "Mari          Mar\n",
       "dtype: object"
      ]
     },
     "execution_count": 39,
     "metadata": {},
     "output_type": "execute_result"
    }
   ],
   "source": [
    "#Serie a partir de un diccionario\n",
    "serie_letras =pd.Series({\"Eduardo\":\"Perez\" ,\"Maria\": \"Martin\" ,\"Mari\": \"Mar\"})\n",
    "serie_letras"
   ]
  },
  {
   "cell_type": "code",
   "execution_count": 41,
   "id": "2e900139",
   "metadata": {},
   "outputs": [
    {
     "data": {
      "text/plain": [
       "numpy.ndarray"
      ]
     },
     "execution_count": 41,
     "metadata": {},
     "output_type": "execute_result"
    }
   ],
   "source": [
    "type(serie_letras.values)"
   ]
  },
  {
   "cell_type": "markdown",
   "id": "9e16f117",
   "metadata": {},
   "source": [
    "# Acceso a elementos de una serie"
   ]
  },
  {
   "cell_type": "code",
   "execution_count": 43,
   "id": "c869c27b",
   "metadata": {},
   "outputs": [
    {
     "data": {
      "text/plain": [
       "'Perez'"
      ]
     },
     "execution_count": 43,
     "metadata": {},
     "output_type": "execute_result"
    }
   ],
   "source": [
    "serie_letras[0]"
   ]
  },
  {
   "cell_type": "code",
   "execution_count": 45,
   "id": "4989e893",
   "metadata": {},
   "outputs": [
    {
     "data": {
      "text/plain": [
       "'Mar'"
      ]
     },
     "execution_count": 45,
     "metadata": {},
     "output_type": "execute_result"
    }
   ],
   "source": [
    "serie_letras[-1] #dará error fuera de rango ¿¿¿a mi no me da error!!!"
   ]
  },
  {
   "cell_type": "code",
   "execution_count": 61,
   "id": "d0779231",
   "metadata": {},
   "outputs": [
    {
     "data": {
      "text/plain": [
       "444     Antonio\n",
       "3333       Luis\n",
       "666        Pepe\n",
       "5555       Luis\n",
       "Name: Alumnos, dtype: object"
      ]
     },
     "execution_count": 61,
     "metadata": {},
     "output_type": "execute_result"
    }
   ],
   "source": [
    "# otra forma de crear la serie\n",
    "serie_alu =pd.Series([\"Antonio\", \"Luis\", \"Pepe\", \"Luis\"], name =\"Alumnos\", index=[444, 3333, 666, 5555])\n",
    "serie_alu"
   ]
  },
  {
   "cell_type": "code",
   "execution_count": 62,
   "id": "e3605a99",
   "metadata": {},
   "outputs": [
    {
     "data": {
      "text/plain": [
       "444     Antonio\n",
       "666        Pepe\n",
       "3333       Luis\n",
       "5555       Luis\n",
       "Name: Alumnos, dtype: object"
      ]
     },
     "execution_count": 62,
     "metadata": {},
     "output_type": "execute_result"
    }
   ],
   "source": [
    "serie_alu.sort_index() #sin parentesis tambien funciona"
   ]
  },
  {
   "cell_type": "code",
   "execution_count": 63,
   "id": "e8e4915c",
   "metadata": {},
   "outputs": [
    {
     "data": {
      "text/plain": [
       "444     Antonio\n",
       "3333       Luis\n",
       "5555       Luis\n",
       "666        Pepe\n",
       "Name: Alumnos, dtype: object"
      ]
     },
     "execution_count": 63,
     "metadata": {},
     "output_type": "execute_result"
    }
   ],
   "source": [
    "serie_alu.sort_values()"
   ]
  },
  {
   "cell_type": "code",
   "execution_count": 64,
   "id": "dd12cc34",
   "metadata": {},
   "outputs": [
    {
     "data": {
      "text/plain": [
       "666        Pepe\n",
       "3333       Luis\n",
       "5555       Luis\n",
       "444     Antonio\n",
       "Name: Alumnos, dtype: object"
      ]
     },
     "execution_count": 64,
     "metadata": {},
     "output_type": "execute_result"
    }
   ],
   "source": [
    "#orden descendente por nombre de z - a\n",
    "serie_alu.sort_values(ascending=False)"
   ]
  },
  {
   "cell_type": "code",
   "execution_count": 66,
   "id": "fe03f833",
   "metadata": {},
   "outputs": [
    {
     "data": {
      "text/plain": [
       "array(['Antonio', 'Luis', 'Pepe'], dtype=object)"
      ]
     },
     "execution_count": 66,
     "metadata": {},
     "output_type": "execute_result"
    }
   ],
   "source": [
    "serie_alu.unique()"
   ]
  },
  {
   "cell_type": "code",
   "execution_count": 68,
   "id": "75f54acf",
   "metadata": {},
   "outputs": [
    {
     "data": {
      "text/plain": [
       "Luis       2\n",
       "Antonio    1\n",
       "Pepe       1\n",
       "Name: Alumnos, dtype: int64"
      ]
     },
     "execution_count": 68,
     "metadata": {},
     "output_type": "execute_result"
    }
   ],
   "source": [
    "serie_alu.value_counts()"
   ]
  },
  {
   "cell_type": "code",
   "execution_count": 70,
   "id": "d84ee490",
   "metadata": {},
   "outputs": [],
   "source": [
    "serie1 = pd.Series([1,2,3,4,5])\n",
    "serie2  = pd.Series([6,2,4,9,1])"
   ]
  },
  {
   "cell_type": "code",
   "execution_count": 72,
   "id": "2fe4ba5e",
   "metadata": {},
   "outputs": [
    {
     "data": {
      "text/plain": [
       "0     7\n",
       "1     4\n",
       "2     7\n",
       "3    13\n",
       "4     6\n",
       "dtype: int64"
      ]
     },
     "execution_count": 72,
     "metadata": {},
     "output_type": "execute_result"
    }
   ],
   "source": [
    "serie1 + serie2"
   ]
  },
  {
   "cell_type": "code",
   "execution_count": 74,
   "id": "304135a6",
   "metadata": {},
   "outputs": [],
   "source": [
    "serie1 = pd.Series([1,2,3,4,5])\n",
    "serie2  = pd.Series([6,2,4,9])"
   ]
  },
  {
   "cell_type": "code",
   "execution_count": 76,
   "id": "15e7e29f",
   "metadata": {},
   "outputs": [
    {
     "data": {
      "text/plain": [
       "0     7.0\n",
       "1     4.0\n",
       "2     7.0\n",
       "3    13.0\n",
       "4     NaN\n",
       "dtype: float64"
      ]
     },
     "execution_count": 76,
     "metadata": {},
     "output_type": "execute_result"
    }
   ],
   "source": [
    "#si las series tienen distinta longitud, el que falta lo rellena con NaN\n",
    "serie1 + serie2"
   ]
  },
  {
   "cell_type": "code",
   "execution_count": 78,
   "id": "338d97ba",
   "metadata": {},
   "outputs": [
    {
     "data": {
      "text/plain": [
       "5"
      ]
     },
     "execution_count": 78,
     "metadata": {},
     "output_type": "execute_result"
    }
   ],
   "source": [
    "len(serie1)"
   ]
  },
  {
   "cell_type": "code",
   "execution_count": 80,
   "id": "0ff41ef7",
   "metadata": {},
   "outputs": [
    {
     "data": {
      "text/plain": [
       "4"
      ]
     },
     "execution_count": 80,
     "metadata": {},
     "output_type": "execute_result"
    }
   ],
   "source": [
    "len(serie2)"
   ]
  },
  {
   "cell_type": "code",
   "execution_count": 91,
   "id": "d54f3cb8",
   "metadata": {},
   "outputs": [
    {
     "name": "stdout",
     "output_type": "stream",
     "text": [
      "La suma de las serie1 + serie 2 es:  0     7.0\n",
      "1     4.0\n",
      "2     7.0\n",
      "3    13.0\n",
      "4     NaN\n",
      "dtype: float64\n"
     ]
    }
   ],
   "source": [
    "if len(serie1) == len(serie2):\n",
    "    print(\"Error, La longitud de las series es distinta \" + str(len(serie1))) +\" != \" + str(len(serie2))\n",
    "else:\n",
    "    print(\"La suma de las serie1 + serie 2 es: \", serie1 + serie2)"
   ]
  },
  {
   "cell_type": "code",
   "execution_count": 95,
   "id": "d09b81b1",
   "metadata": {},
   "outputs": [
    {
     "name": "stdout",
     "output_type": "stream",
     "text": [
      "Error, La longitud de las series es distinta 5 != 4\n"
     ]
    }
   ],
   "source": [
    "if len(serie1) != len(serie2):\n",
    "    print(\"Error, La longitud de las series es distinta \" + str(len(serie1)) + \" != \" + str(len(serie2)))\n",
    "else:\n",
    "    print(\"La suma de las serie1 + serie 2 es: \", serie1 + serie2)"
   ]
  },
  {
   "cell_type": "code",
   "execution_count": 97,
   "id": "40626613",
   "metadata": {},
   "outputs": [
    {
     "data": {
      "text/plain": [
       "0     4\n",
       "1     8\n",
       "2    12\n",
       "3    16\n",
       "4    20\n",
       "dtype: int64"
      ]
     },
     "execution_count": 97,
     "metadata": {},
     "output_type": "execute_result"
    }
   ],
   "source": [
    "serie1 * 4"
   ]
  },
  {
   "cell_type": "code",
   "execution_count": 99,
   "id": "a597e4c1",
   "metadata": {},
   "outputs": [
    {
     "name": "stdout",
     "output_type": "stream",
     "text": [
      "15\n"
     ]
    }
   ],
   "source": [
    "print(serie1.sum())"
   ]
  },
  {
   "cell_type": "code",
   "execution_count": 102,
   "id": "9726438f",
   "metadata": {},
   "outputs": [
    {
     "name": "stdout",
     "output_type": "stream",
     "text": [
      "3.0\n",
      "4\n"
     ]
    }
   ],
   "source": [
    "print(serie1.mean())\n",
    "print(serie1.idxmax())"
   ]
  },
  {
   "cell_type": "code",
   "execution_count": 2,
   "id": "eaba7fc5",
   "metadata": {},
   "outputs": [],
   "source": [
    "#funcion lambda y series\n",
    "def funcion(para : int):\n",
    "     return 4 * para        "
   ]
  },
  {
   "cell_type": "code",
   "execution_count": 3,
   "id": "0eb1e8a3",
   "metadata": {},
   "outputs": [
    {
     "data": {
      "text/plain": [
       "12"
      ]
     },
     "execution_count": 3,
     "metadata": {},
     "output_type": "execute_result"
    }
   ],
   "source": [
    "funcion(3)"
   ]
  },
  {
   "cell_type": "markdown",
   "id": "e7b6b3a0",
   "metadata": {},
   "source": [
    "## Como usar funciones lambda en Python\n",
    "Una función lambda se usa cuando necesitas una función sencilla y de rápido acceso: por ejemplo, como argumento de una función de orden mayor como los son map o filter\n",
    "\n",
    "La sintaxis de una función lambda es <b> lambda args: expresión</b>.\n",
    "Primero escribes la palabra clave lambda, dejas un espacio, después los argumentos que necesites separados por coma, dos puntos :, y por último la expresión que será el cuerpo de la función.\n",
    "\n",
    "Recuerda que no puedes darle un nombre a una función lambda,  ya que estas son anónimas (sin nombre) por definición.\n",
    "\n",
    "Una función lambda puede tener tantos argumento como necesites, pero debe tener una sola expresión."
   ]
  },
  {
   "cell_type": "code",
   "execution_count": 7,
   "id": "6df99c20",
   "metadata": {},
   "outputs": [
    {
     "data": {
      "text/plain": [
       "0    160\n",
       "1    170\n",
       "2    180\n",
       "Name: Altura, dtype: int64"
      ]
     },
     "execution_count": 7,
     "metadata": {},
     "output_type": "execute_result"
    }
   ],
   "source": [
    "#La función lambda se puede aplicar a la serie mediante la función apply\n",
    "estatura=pd.Series([160,170,180], name='Altura')\n",
    "estatura"
   ]
  },
  {
   "cell_type": "code",
   "execution_count": 10,
   "id": "c1f9bbf4",
   "metadata": {},
   "outputs": [
    {
     "data": {
      "text/plain": [
       "15"
      ]
     },
     "execution_count": 10,
     "metadata": {},
     "output_type": "execute_result"
    }
   ],
   "source": [
    "#creamos una funcion a la que le sumamos 10 al parametro x\n",
    "mas_10=lambda x:x+10\n",
    "mas_10(5)"
   ]
  },
  {
   "cell_type": "code",
   "execution_count": 11,
   "id": "31302c25",
   "metadata": {},
   "outputs": [
    {
     "data": {
      "text/plain": [
       "0    170\n",
       "1    180\n",
       "2    190\n",
       "Name: Altura, dtype: int64"
      ]
     },
     "execution_count": 11,
     "metadata": {},
     "output_type": "execute_result"
    }
   ],
   "source": [
    "#aplicamos a la serie estatura  la funcion lambda y suma 10 a cada estatura de la serie\n",
    "estatura.apply(lambda x:x+10)"
   ]
  }
 ],
 "metadata": {
  "kernelspec": {
   "display_name": "Python 3 (ipykernel)",
   "language": "python",
   "name": "python3"
  },
  "language_info": {
   "codemirror_mode": {
    "name": "ipython",
    "version": 3
   },
   "file_extension": ".py",
   "mimetype": "text/x-python",
   "name": "python",
   "nbconvert_exporter": "python",
   "pygments_lexer": "ipython3",
   "version": "3.10.9"
  }
 },
 "nbformat": 4,
 "nbformat_minor": 5
}
